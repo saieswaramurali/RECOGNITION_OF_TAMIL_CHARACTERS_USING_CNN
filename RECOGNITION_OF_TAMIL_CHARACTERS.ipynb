{
  "cells": [
    {
      "cell_type": "markdown",
      "metadata": {
        "id": "view-in-github",
        "colab_type": "text"
      },
      "source": [
        "<a href=\"https://colab.research.google.com/github/saieswaramurali/RECOGNITION_OF_TAMIL_CHARACTERS_USING_CNN/blob/main/RECOGNITION_OF_TAMIL_CHARACTERS.ipynb\" target=\"_parent\"><img src=\"https://colab.research.google.com/assets/colab-badge.svg\" alt=\"Open In Colab\"/></a>"
      ]
    },
    {
      "cell_type": "code",
      "execution_count": null,
      "metadata": {
        "id": "R7EG4UPyZzDz"
      },
      "outputs": [],
      "source": [
        "import tensorflow as tf\n",
        "import pandas as pd\n",
        "import numpy as np\n",
        "import matplotlib.pyplot as plt\n",
        "from tensorflow import keras"
      ]
    },
    {
      "cell_type": "code",
      "execution_count": null,
      "metadata": {
        "colab": {
          "base_uri": "https://localhost:8080/"
        },
        "id": "EjfLTHgqbBY9",
        "outputId": "f04e03ec-dea2-486a-b4e9-d5af1c18c3f7"
      },
      "outputs": [
        {
          "name": "stdout",
          "output_type": "stream",
          "text": [
            "Requirement already satisfied: imutils in /usr/local/lib/python3.10/dist-packages (0.5.4)\n"
          ]
        }
      ],
      "source": [
        "# to create the dataset out of folders of images of the data\n",
        "!pip install imutils"
      ]
    },
    {
      "cell_type": "code",
      "execution_count": null,
      "metadata": {
        "id": "IlDTiRW9pvHG"
      },
      "outputs": [],
      "source": [
        "from imutils import paths\n",
        "import cv2\n",
        "import os"
      ]
    },
    {
      "cell_type": "code",
      "execution_count": null,
      "metadata": {
        "id": "1yr09tuFp_he"
      },
      "outputs": [],
      "source": [
        "imagepaths = list(paths.list_images(\"/content/drive/MyDrive/ML/tamilCharData\"))"
      ]
    },
    {
      "cell_type": "code",
      "execution_count": null,
      "metadata": {
        "colab": {
          "base_uri": "https://localhost:8080/"
        },
        "id": "6mXxxnVBqHJt",
        "outputId": "adb75d54-d72b-4638-806f-fc0505322711"
      },
      "outputs": [
        {
          "name": "stdout",
          "output_type": "stream",
          "text": [
            "['/content/drive/MyDrive/ML/tamilCharData/1--57.jpg', '/content/drive/MyDrive/ML/tamilCharData/4--55.jpg', '/content/drive/MyDrive/ML/tamilCharData/5--56.jpg', '/content/drive/MyDrive/ML/tamilCharData/5--58.jpg', '/content/drive/MyDrive/ML/tamilCharData/7--59.jpg', '/content/drive/MyDrive/ML/tamilCharData/12--55.jpg', '/content/drive/MyDrive/ML/tamilCharData/6--61.jpg', '/content/drive/MyDrive/ML/tamilCharData/7--55.jpg', '/content/drive/MyDrive/ML/tamilCharData/2--60.jpg', '/content/drive/MyDrive/ML/tamilCharData/10--60.jpg', '/content/drive/MyDrive/ML/tamilCharData/1--60.jpg', '/content/drive/MyDrive/ML/tamilCharData/11--60.jpg', '/content/drive/MyDrive/ML/tamilCharData/3--63.jpg', '/content/drive/MyDrive/ML/tamilCharData/9--57.jpg', '/content/drive/MyDrive/ML/tamilCharData/1--61.jpg', '/content/drive/MyDrive/ML/tamilCharData/6--59.jpg', '/content/drive/MyDrive/ML/tamilCharData/8--61.jpg', '/content/drive/MyDrive/ML/tamilCharData/4--56.jpg', '/content/drive/MyDrive/ML/tamilCharData/4--60.jpg', '/content/drive/MyDrive/ML/tamilCharData/4--61.jpg', '/content/drive/MyDrive/ML/tamilCharData/7--58.jpg', '/content/drive/MyDrive/ML/tamilCharData/3--61.jpg', '/content/drive/MyDrive/ML/tamilCharData/5--62.jpg', '/content/drive/MyDrive/ML/tamilCharData/12--58.jpg', '/content/drive/MyDrive/ML/tamilCharData/7--56.jpg', '/content/drive/MyDrive/ML/tamilCharData/5--57.jpg', '/content/drive/MyDrive/ML/tamilCharData/1--55.jpg', '/content/drive/MyDrive/ML/tamilCharData/4--58.jpg', '/content/drive/MyDrive/ML/tamilCharData/10--58.jpg', '/content/drive/MyDrive/ML/tamilCharData/8--56.jpg', '/content/drive/MyDrive/ML/tamilCharData/1--58.jpg', '/content/drive/MyDrive/ML/tamilCharData/9--58.jpg', '/content/drive/MyDrive/ML/tamilCharData/2--56.jpg', '/content/drive/MyDrive/ML/tamilCharData/11--56.jpg', '/content/drive/MyDrive/ML/tamilCharData/2--59.jpg', '/content/drive/MyDrive/ML/tamilCharData/2--58.jpg', '/content/drive/MyDrive/ML/tamilCharData/7--60.jpg', '/content/drive/MyDrive/ML/tamilCharData/8--59.jpg', '/content/drive/MyDrive/ML/tamilCharData/9--60.jpg', '/content/drive/MyDrive/ML/tamilCharData/5--60.jpg', '/content/drive/MyDrive/ML/tamilCharData/2--55.jpg', '/content/drive/MyDrive/ML/tamilCharData/12--56.jpg', '/content/drive/MyDrive/ML/tamilCharData/9--55.jpg', '/content/drive/MyDrive/ML/tamilCharData/11--59.jpg', '/content/drive/MyDrive/ML/tamilCharData/5--59.jpg', '/content/drive/MyDrive/ML/tamilCharData/6--58.jpg', '/content/drive/MyDrive/ML/tamilCharData/9--56.jpg', '/content/drive/MyDrive/ML/tamilCharData/3--58.jpg', '/content/drive/MyDrive/ML/tamilCharData/7--61.jpg', '/content/drive/MyDrive/ML/tamilCharData/8--60.jpg', '/content/drive/MyDrive/ML/tamilCharData/11--58.jpg', '/content/drive/MyDrive/ML/tamilCharData/3--57.jpg', '/content/drive/MyDrive/ML/tamilCharData/6--66.jpg', '/content/drive/MyDrive/ML/tamilCharData/4--67.jpg', '/content/drive/MyDrive/ML/tamilCharData/12--62.jpg', '/content/drive/MyDrive/ML/tamilCharData/6--63.jpg', '/content/drive/MyDrive/ML/tamilCharData/10--65.jpg', '/content/drive/MyDrive/ML/tamilCharData/4--65.jpg', '/content/drive/MyDrive/ML/tamilCharData/7--66.jpg', '/content/drive/MyDrive/ML/tamilCharData/11--61.jpg', '/content/drive/MyDrive/ML/tamilCharData/10--63.jpg', '/content/drive/MyDrive/ML/tamilCharData/10--64.jpg', '/content/drive/MyDrive/ML/tamilCharData/1--65.jpg', '/content/drive/MyDrive/ML/tamilCharData/4--63.jpg', '/content/drive/MyDrive/ML/tamilCharData/8--65.jpg', '/content/drive/MyDrive/ML/tamilCharData/11--67.jpg', '/content/drive/MyDrive/ML/tamilCharData/2--61.jpg', '/content/drive/MyDrive/ML/tamilCharData/2--63.jpg', '/content/drive/MyDrive/ML/tamilCharData/6--67.jpg', '/content/drive/MyDrive/ML/tamilCharData/5--63.jpg', '/content/drive/MyDrive/ML/tamilCharData/4--62.jpg', '/content/drive/MyDrive/ML/tamilCharData/5--67.jpg', '/content/drive/MyDrive/ML/tamilCharData/7--64.jpg', '/content/drive/MyDrive/ML/tamilCharData/9--66.jpg', '/content/drive/MyDrive/ML/tamilCharData/5--65.jpg', '/content/drive/MyDrive/ML/tamilCharData/4--64.jpg', '/content/drive/MyDrive/ML/tamilCharData/1--62.jpg', '/content/drive/MyDrive/ML/tamilCharData/8--66.jpg', '/content/drive/MyDrive/ML/tamilCharData/8--67.jpg', '/content/drive/MyDrive/ML/tamilCharData/3--68.jpg', '/content/drive/MyDrive/ML/tamilCharData/9--67.jpg', '/content/drive/MyDrive/ML/tamilCharData/7--68.jpg', '/content/drive/MyDrive/ML/tamilCharData/8--63.jpg', '/content/drive/MyDrive/ML/tamilCharData/11--62.jpg', '/content/drive/MyDrive/ML/tamilCharData/2--67.jpg', '/content/drive/MyDrive/ML/tamilCharData/6--62.jpg', '/content/drive/MyDrive/ML/tamilCharData/12--63.jpg', '/content/drive/MyDrive/ML/tamilCharData/1--63.jpg', '/content/drive/MyDrive/ML/tamilCharData/5--68.jpg', '/content/drive/MyDrive/ML/tamilCharData/6--64.jpg', '/content/drive/MyDrive/ML/tamilCharData/10--67.jpg', '/content/drive/MyDrive/ML/tamilCharData/11--66.jpg', '/content/drive/MyDrive/ML/tamilCharData/12--64.jpg', '/content/drive/MyDrive/ML/tamilCharData/8--64.jpg', '/content/drive/MyDrive/ML/tamilCharData/7--65.jpg', '/content/drive/MyDrive/ML/tamilCharData/8--62.jpg', '/content/drive/MyDrive/ML/tamilCharData/12--61.jpg', '/content/drive/MyDrive/ML/tamilCharData/1--64.jpg', '/content/drive/MyDrive/ML/tamilCharData/3--69.jpg', '/content/drive/MyDrive/ML/tamilCharData/9--62.jpg', '/content/drive/MyDrive/ML/tamilCharData/3--67.jpg', '/content/drive/MyDrive/ML/tamilCharData/12--66.jpg', '/content/drive/MyDrive/ML/tamilCharData/2--66.jpg', '/content/drive/MyDrive/ML/tamilCharData/9--63.jpg', '/content/drive/MyDrive/ML/tamilCharData/3--65.jpg', '/content/drive/MyDrive/ML/tamilCharData/7--63.jpg', '/content/drive/MyDrive/ML/tamilCharData/5--64.jpg', '/content/drive/MyDrive/ML/tamilCharData/12--65.jpg', '/content/drive/MyDrive/ML/tamilCharData/9--61.jpg', '/content/drive/MyDrive/ML/tamilCharData/10--66.jpg', '/content/drive/MyDrive/ML/tamilCharData/5--69.jpg', '/content/drive/MyDrive/ML/tamilCharData/2--64.jpg', '/content/drive/MyDrive/ML/tamilCharData/7--62.jpg', '/content/drive/MyDrive/ML/tamilCharData/6--65.jpg', '/content/drive/MyDrive/ML/tamilCharData/1--66.jpg', '/content/drive/MyDrive/ML/tamilCharData/10--68.jpg', '/content/drive/MyDrive/ML/tamilCharData/3--66.jpg', '/content/drive/MyDrive/ML/tamilCharData/3--64.jpg', '/content/drive/MyDrive/ML/tamilCharData/4--68.jpg', '/content/drive/MyDrive/ML/tamilCharData/9--65.jpg', '/content/drive/MyDrive/ML/tamilCharData/6--68.jpg', '/content/drive/MyDrive/ML/tamilCharData/11--64.jpg', '/content/drive/MyDrive/ML/tamilCharData/2--65.jpg', '/content/drive/MyDrive/ML/tamilCharData/1--67.jpg', '/content/drive/MyDrive/ML/tamilCharData/7--67.jpg', '/content/drive/MyDrive/ML/tamilCharData/9--64.jpg', '/content/drive/MyDrive/ML/tamilCharData/11--63.jpg', '/content/drive/MyDrive/ML/tamilCharData/8--68.jpg', '/content/drive/MyDrive/ML/tamilCharData/11--65.jpg', '/content/drive/MyDrive/ML/tamilCharData/5--66.jpg', '/content/drive/MyDrive/ML/tamilCharData/2--62.jpg', '/content/drive/MyDrive/ML/tamilCharData/4--66.jpg', '/content/drive/MyDrive/ML/tamilCharData/10--74.jpg', '/content/drive/MyDrive/ML/tamilCharData/11--73.jpg', '/content/drive/MyDrive/ML/tamilCharData/5--75.jpg', '/content/drive/MyDrive/ML/tamilCharData/10--75.jpg', '/content/drive/MyDrive/ML/tamilCharData/2--70.jpg', '/content/drive/MyDrive/ML/tamilCharData/9--74.jpg', '/content/drive/MyDrive/ML/tamilCharData/1--73.jpg', '/content/drive/MyDrive/ML/tamilCharData/9--71.jpg', '/content/drive/MyDrive/ML/tamilCharData/12--67.jpg', '/content/drive/MyDrive/ML/tamilCharData/10--69.jpg', '/content/drive/MyDrive/ML/tamilCharData/6--73.jpg', '/content/drive/MyDrive/ML/tamilCharData/8--70.jpg', '/content/drive/MyDrive/ML/tamilCharData/4--75.jpg', '/content/drive/MyDrive/ML/tamilCharData/1--70.jpg', '/content/drive/MyDrive/ML/tamilCharData/8--74.jpg', '/content/drive/MyDrive/ML/tamilCharData/12--73.jpg', '/content/drive/MyDrive/ML/tamilCharData/12--68.jpg', '/content/drive/MyDrive/ML/tamilCharData/9--70.jpg', '/content/drive/MyDrive/ML/tamilCharData/3--74.jpg', '/content/drive/MyDrive/ML/tamilCharData/9--69.jpg', '/content/drive/MyDrive/ML/tamilCharData/7--69.jpg', '/content/drive/MyDrive/ML/tamilCharData/11--72.jpg', '/content/drive/MyDrive/ML/tamilCharData/3--72.jpg', '/content/drive/MyDrive/ML/tamilCharData/3--73.jpg', '/content/drive/MyDrive/ML/tamilCharData/12--69.jpg', '/content/drive/MyDrive/ML/tamilCharData/2--69.jpg', '/content/drive/MyDrive/ML/tamilCharData/8--75.jpg', '/content/drive/MyDrive/ML/tamilCharData/2--68.jpg', '/content/drive/MyDrive/ML/tamilCharData/7--75.jpg', '/content/drive/MyDrive/ML/tamilCharData/7--70.jpg', '/content/drive/MyDrive/ML/tamilCharData/2--72.jpg', '/content/drive/MyDrive/ML/tamilCharData/7--72.jpg', '/content/drive/MyDrive/ML/tamilCharData/5--70.jpg', '/content/drive/MyDrive/ML/tamilCharData/12--70.jpg', '/content/drive/MyDrive/ML/tamilCharData/4--74.jpg', '/content/drive/MyDrive/ML/tamilCharData/4--73.jpg', '/content/drive/MyDrive/ML/tamilCharData/6--69.jpg', '/content/drive/MyDrive/ML/tamilCharData/11--71.jpg', '/content/drive/MyDrive/ML/tamilCharData/11--70.jpg', '/content/drive/MyDrive/ML/tamilCharData/3--70.jpg', '/content/drive/MyDrive/ML/tamilCharData/10--73.jpg', '/content/drive/MyDrive/ML/tamilCharData/8--72.jpg', '/content/drive/MyDrive/ML/tamilCharData/9--68.jpg', '/content/drive/MyDrive/ML/tamilCharData/7--71.jpg', '/content/drive/MyDrive/ML/tamilCharData/5--72.jpg', '/content/drive/MyDrive/ML/tamilCharData/10--70.jpg', '/content/drive/MyDrive/ML/tamilCharData/4--70.jpg', '/content/drive/MyDrive/ML/tamilCharData/1--71.jpg', '/content/drive/MyDrive/ML/tamilCharData/5--74.jpg', '/content/drive/MyDrive/ML/tamilCharData/4--71.jpg', '/content/drive/MyDrive/ML/tamilCharData/5--71.jpg', '/content/drive/MyDrive/ML/tamilCharData/7--74.jpg', '/content/drive/MyDrive/ML/tamilCharData/6--72.jpg', '/content/drive/MyDrive/ML/tamilCharData/11--68.jpg', '/content/drive/MyDrive/ML/tamilCharData/3--75.jpg', '/content/drive/MyDrive/ML/tamilCharData/3--76.jpg', '/content/drive/MyDrive/ML/tamilCharData/11--69.jpg', '/content/drive/MyDrive/ML/tamilCharData/7--73.jpg', '/content/drive/MyDrive/ML/tamilCharData/5--76.jpg', '/content/drive/MyDrive/ML/tamilCharData/2--71.jpg', '/content/drive/MyDrive/ML/tamilCharData/9--72.jpg', '/content/drive/MyDrive/ML/tamilCharData/6--71.jpg', '/content/drive/MyDrive/ML/tamilCharData/12--72.jpg', '/content/drive/MyDrive/ML/tamilCharData/8--71.jpg', '/content/drive/MyDrive/ML/tamilCharData/2--73.jpg', '/content/drive/MyDrive/ML/tamilCharData/4--69.jpg', '/content/drive/MyDrive/ML/tamilCharData/9--73.jpg', '/content/drive/MyDrive/ML/tamilCharData/10--72.jpg', '/content/drive/MyDrive/ML/tamilCharData/8--69.jpg', '/content/drive/MyDrive/ML/tamilCharData/5--73.jpg', '/content/drive/MyDrive/ML/tamilCharData/6--74.jpg', '/content/drive/MyDrive/ML/tamilCharData/1--68.jpg', '/content/drive/MyDrive/ML/tamilCharData/6--70.jpg', '/content/drive/MyDrive/ML/tamilCharData/1--72.jpg', '/content/drive/MyDrive/ML/tamilCharData/4--72.jpg', '/content/drive/MyDrive/ML/tamilCharData/10--71.jpg', '/content/drive/MyDrive/ML/tamilCharData/1--69.jpg', '/content/drive/MyDrive/ML/tamilCharData/12--71.jpg', '/content/drive/MyDrive/ML/tamilCharData/8--73.jpg', '/content/drive/MyDrive/ML/tamilCharData/3--71.jpg', '/content/drive/MyDrive/ML/tamilCharData/9--80.jpg', '/content/drive/MyDrive/ML/tamilCharData/6--76.jpg', '/content/drive/MyDrive/ML/tamilCharData/1--80.jpg', '/content/drive/MyDrive/ML/tamilCharData/1--74.jpg', '/content/drive/MyDrive/ML/tamilCharData/4--77.jpg', '/content/drive/MyDrive/ML/tamilCharData/6--78.jpg', '/content/drive/MyDrive/ML/tamilCharData/8--79.jpg', '/content/drive/MyDrive/ML/tamilCharData/3--78.jpg', '/content/drive/MyDrive/ML/tamilCharData/4--76.jpg', '/content/drive/MyDrive/ML/tamilCharData/8--82.jpg', '/content/drive/MyDrive/ML/tamilCharData/3--81.jpg', '/content/drive/MyDrive/ML/tamilCharData/6--80.jpg', '/content/drive/MyDrive/ML/tamilCharData/8--81.jpg', '/content/drive/MyDrive/ML/tamilCharData/11--75.jpg', '/content/drive/MyDrive/ML/tamilCharData/2--74.jpg', '/content/drive/MyDrive/ML/tamilCharData/1--75.jpg', '/content/drive/MyDrive/ML/tamilCharData/4--81.jpg', '/content/drive/MyDrive/ML/tamilCharData/5--80.jpg', '/content/drive/MyDrive/ML/tamilCharData/4--79.jpg', '/content/drive/MyDrive/ML/tamilCharData/2--77.jpg', '/content/drive/MyDrive/ML/tamilCharData/8--76.jpg', '/content/drive/MyDrive/ML/tamilCharData/2--80.jpg', '/content/drive/MyDrive/ML/tamilCharData/4--80.jpg', '/content/drive/MyDrive/ML/tamilCharData/10--76.jpg', '/content/drive/MyDrive/ML/tamilCharData/9--77.jpg', '/content/drive/MyDrive/ML/tamilCharData/1--78.jpg', '/content/drive/MyDrive/ML/tamilCharData/7--78.jpg', '/content/drive/MyDrive/ML/tamilCharData/10--82.jpg', '/content/drive/MyDrive/ML/tamilCharData/6--75.jpg', '/content/drive/MyDrive/ML/tamilCharData/7--80.jpg', '/content/drive/MyDrive/ML/tamilCharData/8--80.jpg', '/content/drive/MyDrive/ML/tamilCharData/8--77.jpg', '/content/drive/MyDrive/ML/tamilCharData/9--75.jpg', '/content/drive/MyDrive/ML/tamilCharData/2--78.jpg', '/content/drive/MyDrive/ML/tamilCharData/1--79.jpg', '/content/drive/MyDrive/ML/tamilCharData/10--78.jpg', '/content/drive/MyDrive/ML/tamilCharData/3--79.jpg', '/content/drive/MyDrive/ML/tamilCharData/5--81.jpg', '/content/drive/MyDrive/ML/tamilCharData/5--77.jpg', '/content/drive/MyDrive/ML/tamilCharData/9--78.jpg', '/content/drive/MyDrive/ML/tamilCharData/5--82.jpg', '/content/drive/MyDrive/ML/tamilCharData/9--79.jpg', '/content/drive/MyDrive/ML/tamilCharData/9--76.jpg', '/content/drive/MyDrive/ML/tamilCharData/6--79.jpg', '/content/drive/MyDrive/ML/tamilCharData/5--79.jpg', '/content/drive/MyDrive/ML/tamilCharData/11--78.jpg', '/content/drive/MyDrive/ML/tamilCharData/6--77.jpg', '/content/drive/MyDrive/ML/tamilCharData/12--78.jpg', '/content/drive/MyDrive/ML/tamilCharData/11--77.jpg', '/content/drive/MyDrive/ML/tamilCharData/12--77.jpg', '/content/drive/MyDrive/ML/tamilCharData/12--74.jpg', '/content/drive/MyDrive/ML/tamilCharData/10--77.jpg', '/content/drive/MyDrive/ML/tamilCharData/1--77.jpg', '/content/drive/MyDrive/ML/tamilCharData/3--80.jpg', '/content/drive/MyDrive/ML/tamilCharData/11--76.jpg', '/content/drive/MyDrive/ML/tamilCharData/7--76.jpg', '/content/drive/MyDrive/ML/tamilCharData/4--78.jpg', '/content/drive/MyDrive/ML/tamilCharData/3--82.jpg', '/content/drive/MyDrive/ML/tamilCharData/2--75.jpg', '/content/drive/MyDrive/ML/tamilCharData/11--79.jpg', '/content/drive/MyDrive/ML/tamilCharData/10--79.jpg', '/content/drive/MyDrive/ML/tamilCharData/1--76.jpg', '/content/drive/MyDrive/ML/tamilCharData/7--77.jpg', '/content/drive/MyDrive/ML/tamilCharData/5--78.jpg', '/content/drive/MyDrive/ML/tamilCharData/12--79.jpg', '/content/drive/MyDrive/ML/tamilCharData/2--76.jpg', '/content/drive/MyDrive/ML/tamilCharData/11--74.jpg', '/content/drive/MyDrive/ML/tamilCharData/12--75.jpg', '/content/drive/MyDrive/ML/tamilCharData/7--79.jpg', '/content/drive/MyDrive/ML/tamilCharData/12--76.jpg', '/content/drive/MyDrive/ML/tamilCharData/8--78.jpg', '/content/drive/MyDrive/ML/tamilCharData/3--77.jpg', '/content/drive/MyDrive/ML/tamilCharData/10--80.jpg', '/content/drive/MyDrive/ML/tamilCharData/10--81.jpg', '/content/drive/MyDrive/ML/tamilCharData/2--79.jpg', '/content/drive/MyDrive/ML/tamilCharData/8--87.jpg', '/content/drive/MyDrive/ML/tamilCharData/2--81.jpg', '/content/drive/MyDrive/ML/tamilCharData/1--85.jpg', '/content/drive/MyDrive/ML/tamilCharData/5--86.jpg', '/content/drive/MyDrive/ML/tamilCharData/6--82.jpg', '/content/drive/MyDrive/ML/tamilCharData/12--82.jpg', '/content/drive/MyDrive/ML/tamilCharData/9--82.jpg', '/content/drive/MyDrive/ML/tamilCharData/11--82.jpg', '/content/drive/MyDrive/ML/tamilCharData/5--85.jpg', '/content/drive/MyDrive/ML/tamilCharData/5--88.jpg', '/content/drive/MyDrive/ML/tamilCharData/7--83.jpg', '/content/drive/MyDrive/ML/tamilCharData/5--87.jpg', '/content/drive/MyDrive/ML/tamilCharData/9--81.jpg', '/content/drive/MyDrive/ML/tamilCharData/7--85.jpg', '/content/drive/MyDrive/ML/tamilCharData/9--85.jpg', '/content/drive/MyDrive/ML/tamilCharData/1--84.jpg', '/content/drive/MyDrive/ML/tamilCharData/4--82.jpg', '/content/drive/MyDrive/ML/tamilCharData/4--86.jpg', '/content/drive/MyDrive/ML/tamilCharData/12--84.jpg', '/content/drive/MyDrive/ML/tamilCharData/7--81.jpg', '/content/drive/MyDrive/ML/tamilCharData/10--83.jpg', '/content/drive/MyDrive/ML/tamilCharData/11--85.jpg', '/content/drive/MyDrive/ML/tamilCharData/10--84.jpg', '/content/drive/MyDrive/ML/tamilCharData/1--83.jpg', '/content/drive/MyDrive/ML/tamilCharData/5--84.jpg', '/content/drive/MyDrive/ML/tamilCharData/6--81.jpg', '/content/drive/MyDrive/ML/tamilCharData/10--86.jpg', '/content/drive/MyDrive/ML/tamilCharData/9--83.jpg', '/content/drive/MyDrive/ML/tamilCharData/2--82.jpg', '/content/drive/MyDrive/ML/tamilCharData/2--83.jpg', '/content/drive/MyDrive/ML/tamilCharData/10--85.jpg', '/content/drive/MyDrive/ML/tamilCharData/8--84.jpg', '/content/drive/MyDrive/ML/tamilCharData/3--84.jpg', '/content/drive/MyDrive/ML/tamilCharData/12--81.jpg', '/content/drive/MyDrive/ML/tamilCharData/5--83.jpg', '/content/drive/MyDrive/ML/tamilCharData/1--81.jpg', '/content/drive/MyDrive/ML/tamilCharData/3--85.jpg', '/content/drive/MyDrive/ML/tamilCharData/3--86.jpg', '/content/drive/MyDrive/ML/tamilCharData/8--86.jpg', '/content/drive/MyDrive/ML/tamilCharData/3--88.jpg', '/content/drive/MyDrive/ML/tamilCharData/7--86.jpg', '/content/drive/MyDrive/ML/tamilCharData/8--88.jpg', '/content/drive/MyDrive/ML/tamilCharData/4--85.jpg', '/content/drive/MyDrive/ML/tamilCharData/11--84.jpg', '/content/drive/MyDrive/ML/tamilCharData/6--83.jpg', '/content/drive/MyDrive/ML/tamilCharData/1--82.jpg', '/content/drive/MyDrive/ML/tamilCharData/7--82.jpg', '/content/drive/MyDrive/ML/tamilCharData/11--83.jpg', '/content/drive/MyDrive/ML/tamilCharData/4--84.jpg', '/content/drive/MyDrive/ML/tamilCharData/12--83.jpg', '/content/drive/MyDrive/ML/tamilCharData/8--85.jpg', '/content/drive/MyDrive/ML/tamilCharData/9--84.jpg', '/content/drive/MyDrive/ML/tamilCharData/3--83.jpg', '/content/drive/MyDrive/ML/tamilCharData/6--85.jpg', '/content/drive/MyDrive/ML/tamilCharData/11--81.jpg', '/content/drive/MyDrive/ML/tamilCharData/7--84.jpg', '/content/drive/MyDrive/ML/tamilCharData/3--87.jpg', '/content/drive/MyDrive/ML/tamilCharData/8--83.jpg', '/content/drive/MyDrive/ML/tamilCharData/12--80.jpg', '/content/drive/MyDrive/ML/tamilCharData/2--84.jpg', '/content/drive/MyDrive/ML/tamilCharData/2--85.jpg', '/content/drive/MyDrive/ML/tamilCharData/6--84.jpg', '/content/drive/MyDrive/ML/tamilCharData/10--87.jpg', '/content/drive/MyDrive/ML/tamilCharData/12--85.jpg', '/content/drive/MyDrive/ML/tamilCharData/11--80.jpg', '/content/drive/MyDrive/ML/tamilCharData/4--83.jpg', '/content/drive/MyDrive/ML/tamilCharData/12--89.jpg', '/content/drive/MyDrive/ML/tamilCharData/1--89.jpg', '/content/drive/MyDrive/ML/tamilCharData/12--88.jpg', '/content/drive/MyDrive/ML/tamilCharData/2--89.jpg', '/content/drive/MyDrive/ML/tamilCharData/9--90.jpg', '/content/drive/MyDrive/ML/tamilCharData/1--92.jpg', '/content/drive/MyDrive/ML/tamilCharData/7--92.jpg', '/content/drive/MyDrive/ML/tamilCharData/3--94.jpg', '/content/drive/MyDrive/ML/tamilCharData/6--87.jpg', '/content/drive/MyDrive/ML/tamilCharData/7--88.jpg', '/content/drive/MyDrive/ML/tamilCharData/1--87.jpg', '/content/drive/MyDrive/ML/tamilCharData/4--87.jpg', '/content/drive/MyDrive/ML/tamilCharData/5--89.jpg', '/content/drive/MyDrive/ML/tamilCharData/5--95.jpg', '/content/drive/MyDrive/ML/tamilCharData/10--93.jpg', '/content/drive/MyDrive/ML/tamilCharData/8--94.jpg', '/content/drive/MyDrive/ML/tamilCharData/6--86.jpg', '/content/drive/MyDrive/ML/tamilCharData/5--94.jpg', '/content/drive/MyDrive/ML/tamilCharData/5--90.jpg', '/content/drive/MyDrive/ML/tamilCharData/6--91.jpg', '/content/drive/MyDrive/ML/tamilCharData/1--93.jpg', '/content/drive/MyDrive/ML/tamilCharData/10--92.jpg', '/content/drive/MyDrive/ML/tamilCharData/1--86.jpg', '/content/drive/MyDrive/ML/tamilCharData/4--91.jpg', '/content/drive/MyDrive/ML/tamilCharData/1--88.jpg', '/content/drive/MyDrive/ML/tamilCharData/9--86.jpg', '/content/drive/MyDrive/ML/tamilCharData/5--91.jpg', '/content/drive/MyDrive/ML/tamilCharData/4--93.jpg', '/content/drive/MyDrive/ML/tamilCharData/6--90.jpg', '/content/drive/MyDrive/ML/tamilCharData/10--88.jpg', '/content/drive/MyDrive/ML/tamilCharData/7--91.jpg', '/content/drive/MyDrive/ML/tamilCharData/9--87.jpg', '/content/drive/MyDrive/ML/tamilCharData/11--86.jpg', '/content/drive/MyDrive/ML/tamilCharData/2--87.jpg', '/content/drive/MyDrive/ML/tamilCharData/6--88.jpg', '/content/drive/MyDrive/ML/tamilCharData/4--92.jpg', '/content/drive/MyDrive/ML/tamilCharData/7--87.jpg', '/content/drive/MyDrive/ML/tamilCharData/9--89.jpg', '/content/drive/MyDrive/ML/tamilCharData/12--90.jpg', '/content/drive/MyDrive/ML/tamilCharData/5--93.jpg', '/content/drive/MyDrive/ML/tamilCharData/2--91.jpg', '/content/drive/MyDrive/ML/tamilCharData/10--89.jpg', '/content/drive/MyDrive/ML/tamilCharData/2--88.jpg', '/content/drive/MyDrive/ML/tamilCharData/8--89.jpg', '/content/drive/MyDrive/ML/tamilCharData/3--93.jpg', '/content/drive/MyDrive/ML/tamilCharData/11--88.jpg', '/content/drive/MyDrive/ML/tamilCharData/3--89.jpg', '/content/drive/MyDrive/ML/tamilCharData/7--94.jpg', '/content/drive/MyDrive/ML/tamilCharData/3--90.jpg', '/content/drive/MyDrive/ML/tamilCharData/9--91.jpg', '/content/drive/MyDrive/ML/tamilCharData/7--90.jpg', '/content/drive/MyDrive/ML/tamilCharData/6--92.jpg', '/content/drive/MyDrive/ML/tamilCharData/10--90.jpg', '/content/drive/MyDrive/ML/tamilCharData/9--88.jpg', '/content/drive/MyDrive/ML/tamilCharData/10--91.jpg', '/content/drive/MyDrive/ML/tamilCharData/5--92.jpg', '/content/drive/MyDrive/ML/tamilCharData/12--86.jpg', '/content/drive/MyDrive/ML/tamilCharData/4--90.jpg', '/content/drive/MyDrive/ML/tamilCharData/12--87.jpg', '/content/drive/MyDrive/ML/tamilCharData/11--90.jpg', '/content/drive/MyDrive/ML/tamilCharData/8--92.jpg', '/content/drive/MyDrive/ML/tamilCharData/2--92.jpg', '/content/drive/MyDrive/ML/tamilCharData/3--91.jpg', '/content/drive/MyDrive/ML/tamilCharData/11--89.jpg', '/content/drive/MyDrive/ML/tamilCharData/8--95.jpg', '/content/drive/MyDrive/ML/tamilCharData/1--91.jpg', '/content/drive/MyDrive/ML/tamilCharData/2--90.jpg', '/content/drive/MyDrive/ML/tamilCharData/8--91.jpg', '/content/drive/MyDrive/ML/tamilCharData/11--91.jpg', '/content/drive/MyDrive/ML/tamilCharData/2--86.jpg', '/content/drive/MyDrive/ML/tamilCharData/7--93.jpg', '/content/drive/MyDrive/ML/tamilCharData/4--89.jpg', '/content/drive/MyDrive/ML/tamilCharData/11--87.jpg', '/content/drive/MyDrive/ML/tamilCharData/1--90.jpg', '/content/drive/MyDrive/ML/tamilCharData/8--90.jpg', '/content/drive/MyDrive/ML/tamilCharData/10--94.jpg', '/content/drive/MyDrive/ML/tamilCharData/8--93.jpg', '/content/drive/MyDrive/ML/tamilCharData/4--88.jpg', '/content/drive/MyDrive/ML/tamilCharData/3--92.jpg', '/content/drive/MyDrive/ML/tamilCharData/6--89.jpg', '/content/drive/MyDrive/ML/tamilCharData/12--91.jpg', '/content/drive/MyDrive/ML/tamilCharData/7--89.jpg', '/content/drive/MyDrive/ML/tamilCharData/9--95.jpg', '/content/drive/MyDrive/ML/tamilCharData/2--93.jpg', '/content/drive/MyDrive/ML/tamilCharData/12--93.jpg', '/content/drive/MyDrive/ML/tamilCharData/4--95.jpg', '/content/drive/MyDrive/ML/tamilCharData/8--99.jpg', '/content/drive/MyDrive/ML/tamilCharData/5--97.jpg', '/content/drive/MyDrive/ML/tamilCharData/3--95.jpg', '/content/drive/MyDrive/ML/tamilCharData/8--96.jpg', '/content/drive/MyDrive/ML/tamilCharData/11--95.jpg', '/content/drive/MyDrive/ML/tamilCharData/4--96.jpg', '/content/drive/MyDrive/ML/tamilCharData/1--94.jpg', '/content/drive/MyDrive/ML/tamilCharData/4--94.jpg', '/content/drive/MyDrive/ML/tamilCharData/7--97.jpg', '/content/drive/MyDrive/ML/tamilCharData/2--96.jpg', '/content/drive/MyDrive/ML/tamilCharData/3--96.jpg', '/content/drive/MyDrive/ML/tamilCharData/2--95.jpg', '/content/drive/MyDrive/ML/tamilCharData/7--95.jpg', '/content/drive/MyDrive/ML/tamilCharData/6--94.jpg', '/content/drive/MyDrive/ML/tamilCharData/10--95.jpg', '/content/drive/MyDrive/ML/tamilCharData/9--93.jpg', '/content/drive/MyDrive/ML/tamilCharData/1--96.jpg', '/content/drive/MyDrive/ML/tamilCharData/3--97.jpg', '/content/drive/MyDrive/ML/tamilCharData/10--98.jpg', '/content/drive/MyDrive/ML/tamilCharData/7--98.jpg', '/content/drive/MyDrive/ML/tamilCharData/5--96.jpg', '/content/drive/MyDrive/ML/tamilCharData/5--98.jpg', '/content/drive/MyDrive/ML/tamilCharData/12--94.jpg', '/content/drive/MyDrive/ML/tamilCharData/4--97.jpg', '/content/drive/MyDrive/ML/tamilCharData/10--97.jpg', '/content/drive/MyDrive/ML/tamilCharData/8--97.jpg', '/content/drive/MyDrive/ML/tamilCharData/8--98.jpg', '/content/drive/MyDrive/ML/tamilCharData/9--94.jpg', '/content/drive/MyDrive/ML/tamilCharData/11--92.jpg', '/content/drive/MyDrive/ML/tamilCharData/2--94.jpg', '/content/drive/MyDrive/ML/tamilCharData/10--96.jpg', '/content/drive/MyDrive/ML/tamilCharData/7--96.jpg', '/content/drive/MyDrive/ML/tamilCharData/9--92.jpg', '/content/drive/MyDrive/ML/tamilCharData/6--96.jpg', '/content/drive/MyDrive/ML/tamilCharData/6--93.jpg', '/content/drive/MyDrive/ML/tamilCharData/6--95.jpg', '/content/drive/MyDrive/ML/tamilCharData/1--95.jpg', '/content/drive/MyDrive/ML/tamilCharData/11--94.jpg', '/content/drive/MyDrive/ML/tamilCharData/5--99.jpg', '/content/drive/MyDrive/ML/tamilCharData/11--93.jpg', '/content/drive/MyDrive/ML/tamilCharData/12--92.jpg', '/content/drive/MyDrive/ML/tamilCharData/12--95.jpg', '/content/drive/MyDrive/ML/tamilCharData/3--98.jpg', '/content/drive/MyDrive/ML/tamilCharData/1--97.jpg', '/content/drive/MyDrive/ML/tamilCharData/2--97.jpg', '/content/drive/MyDrive/ML/tamilCharData/10--100.jpg', '/content/drive/MyDrive/ML/tamilCharData/9--1.jpg', '/content/drive/MyDrive/ML/tamilCharData/4--99.jpg', '/content/drive/MyDrive/ML/tamilCharData/2--99.jpg', '/content/drive/MyDrive/ML/tamilCharData/12--98.jpg', '/content/drive/MyDrive/ML/tamilCharData/2--98.jpg', '/content/drive/MyDrive/ML/tamilCharData/9--2.jpg', '/content/drive/MyDrive/ML/tamilCharData/7--99.jpg', '/content/drive/MyDrive/ML/tamilCharData/1--99.jpg', '/content/drive/MyDrive/ML/tamilCharData/6--1.jpg', '/content/drive/MyDrive/ML/tamilCharData/11--98.jpg', '/content/drive/MyDrive/ML/tamilCharData/3--100.jpg', '/content/drive/MyDrive/ML/tamilCharData/1--100.jpg', '/content/drive/MyDrive/ML/tamilCharData/2--100.jpg', '/content/drive/MyDrive/ML/tamilCharData/6--2.jpg', '/content/drive/MyDrive/ML/tamilCharData/12--97.jpg', '/content/drive/MyDrive/ML/tamilCharData/8--2.jpg', '/content/drive/MyDrive/ML/tamilCharData/2--1.jpg', '/content/drive/MyDrive/ML/tamilCharData/8--100.jpg', '/content/drive/MyDrive/ML/tamilCharData/6--99.jpg', '/content/drive/MyDrive/ML/tamilCharData/9--97.jpg', '/content/drive/MyDrive/ML/tamilCharData/12--96.jpg', '/content/drive/MyDrive/ML/tamilCharData/12--99.jpg', '/content/drive/MyDrive/ML/tamilCharData/8--1.jpg', '/content/drive/MyDrive/ML/tamilCharData/5--100.jpg', '/content/drive/MyDrive/ML/tamilCharData/5--1.jpg', '/content/drive/MyDrive/ML/tamilCharData/6--100.jpg', '/content/drive/MyDrive/ML/tamilCharData/11--1.jpg', '/content/drive/MyDrive/ML/tamilCharData/11--99.jpg', '/content/drive/MyDrive/ML/tamilCharData/6--3.jpg', '/content/drive/MyDrive/ML/tamilCharData/4--100.jpg', '/content/drive/MyDrive/ML/tamilCharData/11--96.jpg', '/content/drive/MyDrive/ML/tamilCharData/9--99.jpg', '/content/drive/MyDrive/ML/tamilCharData/9--98.jpg', '/content/drive/MyDrive/ML/tamilCharData/1--98.jpg', '/content/drive/MyDrive/ML/tamilCharData/9--4.jpg', '/content/drive/MyDrive/ML/tamilCharData/10--99.jpg', '/content/drive/MyDrive/ML/tamilCharData/9--3.jpg', '/content/drive/MyDrive/ML/tamilCharData/6--97.jpg', '/content/drive/MyDrive/ML/tamilCharData/11--2.jpg', '/content/drive/MyDrive/ML/tamilCharData/4--1.jpg', '/content/drive/MyDrive/ML/tamilCharData/4--98.jpg', '/content/drive/MyDrive/ML/tamilCharData/11--97.jpg', '/content/drive/MyDrive/ML/tamilCharData/6--98.jpg', '/content/drive/MyDrive/ML/tamilCharData/7--100.jpg', '/content/drive/MyDrive/ML/tamilCharData/9--96.jpg', '/content/drive/MyDrive/ML/tamilCharData/3--99.jpg', '/content/drive/MyDrive/ML/tamilCharData/5--2.jpg', '/content/drive/MyDrive/ML/tamilCharData/8--3.jpg', '/content/drive/MyDrive/ML/tamilCharData/11--5.jpg', '/content/drive/MyDrive/ML/tamilCharData/6--7.jpg', '/content/drive/MyDrive/ML/tamilCharData/2--6.jpg', '/content/drive/MyDrive/ML/tamilCharData/2--2.jpg', '/content/drive/MyDrive/ML/tamilCharData/8--6.jpg', '/content/drive/MyDrive/ML/tamilCharData/6--6.jpg', '/content/drive/MyDrive/ML/tamilCharData/9--5.jpg', '/content/drive/MyDrive/ML/tamilCharData/6--9.jpg', '/content/drive/MyDrive/ML/tamilCharData/10--4.jpg', '/content/drive/MyDrive/ML/tamilCharData/11--6.jpg', '/content/drive/MyDrive/ML/tamilCharData/9--8.jpg', '/content/drive/MyDrive/ML/tamilCharData/1--4.jpg', '/content/drive/MyDrive/ML/tamilCharData/6--4.jpg', '/content/drive/MyDrive/ML/tamilCharData/3--2.jpg', '/content/drive/MyDrive/ML/tamilCharData/3--5.jpg', '/content/drive/MyDrive/ML/tamilCharData/1--1.jpg', '/content/drive/MyDrive/ML/tamilCharData/3--4.jpg', '/content/drive/MyDrive/ML/tamilCharData/12--3.jpg', '/content/drive/MyDrive/ML/tamilCharData/5--3.jpg', '/content/drive/MyDrive/ML/tamilCharData/1--3.jpg', '/content/drive/MyDrive/ML/tamilCharData/8--4.jpg', '/content/drive/MyDrive/ML/tamilCharData/6--5.jpg', '/content/drive/MyDrive/ML/tamilCharData/12--100.jpg', '/content/drive/MyDrive/ML/tamilCharData/10--1.jpg', '/content/drive/MyDrive/ML/tamilCharData/4--5.jpg', '/content/drive/MyDrive/ML/tamilCharData/1--2.jpg', '/content/drive/MyDrive/ML/tamilCharData/9--9.jpg', '/content/drive/MyDrive/ML/tamilCharData/4--4.jpg', '/content/drive/MyDrive/ML/tamilCharData/10--3.jpg', '/content/drive/MyDrive/ML/tamilCharData/12--1.jpg', '/content/drive/MyDrive/ML/tamilCharData/5--6.jpg', '/content/drive/MyDrive/ML/tamilCharData/6--8.jpg', '/content/drive/MyDrive/ML/tamilCharData/12--4.jpg', '/content/drive/MyDrive/ML/tamilCharData/12--2.jpg', '/content/drive/MyDrive/ML/tamilCharData/8--7.jpg', '/content/drive/MyDrive/ML/tamilCharData/5--5.jpg', '/content/drive/MyDrive/ML/tamilCharData/9--7.jpg', '/content/drive/MyDrive/ML/tamilCharData/5--4.jpg', '/content/drive/MyDrive/ML/tamilCharData/2--4.jpg', '/content/drive/MyDrive/ML/tamilCharData/4--2.jpg', '/content/drive/MyDrive/ML/tamilCharData/4--6.jpg', '/content/drive/MyDrive/ML/tamilCharData/11--100.jpg', '/content/drive/MyDrive/ML/tamilCharData/8--5.jpg', '/content/drive/MyDrive/ML/tamilCharData/7--4.jpg', '/content/drive/MyDrive/ML/tamilCharData/2--5.jpg', '/content/drive/MyDrive/ML/tamilCharData/10--2.jpg', '/content/drive/MyDrive/ML/tamilCharData/9--100.jpg', '/content/drive/MyDrive/ML/tamilCharData/1--0.jpg', '/content/drive/MyDrive/ML/tamilCharData/7--1.jpg', '/content/drive/MyDrive/ML/tamilCharData/10--5.jpg', '/content/drive/MyDrive/ML/tamilCharData/2--3.jpg', '/content/drive/MyDrive/ML/tamilCharData/7--5.jpg', '/content/drive/MyDrive/ML/tamilCharData/11--3.jpg', '/content/drive/MyDrive/ML/tamilCharData/11--4.jpg', '/content/drive/MyDrive/ML/tamilCharData/9--6.jpg', '/content/drive/MyDrive/ML/tamilCharData/7--3.jpg', '/content/drive/MyDrive/ML/tamilCharData/8--8.jpg', '/content/drive/MyDrive/ML/tamilCharData/4--7.jpg', '/content/drive/MyDrive/ML/tamilCharData/4--3.jpg', '/content/drive/MyDrive/ML/tamilCharData/3--1.jpg', '/content/drive/MyDrive/ML/tamilCharData/3--3.jpg', '/content/drive/MyDrive/ML/tamilCharData/3--6.jpg', '/content/drive/MyDrive/ML/tamilCharData/12--5.jpg', '/content/drive/MyDrive/ML/tamilCharData/7--2.jpg', '/content/drive/MyDrive/ML/tamilCharData/11--7.jpg', '/content/drive/MyDrive/ML/tamilCharData/4--8.jpg', '/content/drive/MyDrive/ML/tamilCharData/6--16.jpg', '/content/drive/MyDrive/ML/tamilCharData/3--8.jpg', '/content/drive/MyDrive/ML/tamilCharData/9--12.jpg', '/content/drive/MyDrive/ML/tamilCharData/5--11.jpg', '/content/drive/MyDrive/ML/tamilCharData/9--14.jpg', '/content/drive/MyDrive/ML/tamilCharData/1--11.jpg', '/content/drive/MyDrive/ML/tamilCharData/4--14.jpg', '/content/drive/MyDrive/ML/tamilCharData/3--12.jpg', '/content/drive/MyDrive/ML/tamilCharData/1--6.jpg', '/content/drive/MyDrive/ML/tamilCharData/11--10.jpg', '/content/drive/MyDrive/ML/tamilCharData/10--8.jpg', '/content/drive/MyDrive/ML/tamilCharData/5--10.jpg', '/content/drive/MyDrive/ML/tamilCharData/9--11.jpg', '/content/drive/MyDrive/ML/tamilCharData/1--9.jpg', '/content/drive/MyDrive/ML/tamilCharData/2--11.jpg', '/content/drive/MyDrive/ML/tamilCharData/11--14.jpg', '/content/drive/MyDrive/ML/tamilCharData/11--9.jpg', '/content/drive/MyDrive/ML/tamilCharData/12--7.jpg', '/content/drive/MyDrive/ML/tamilCharData/8--15.jpg', '/content/drive/MyDrive/ML/tamilCharData/3--11.jpg', '/content/drive/MyDrive/ML/tamilCharData/8--14.jpg', '/content/drive/MyDrive/ML/tamilCharData/9--16.jpg', '/content/drive/MyDrive/ML/tamilCharData/2--7.jpg', '/content/drive/MyDrive/ML/tamilCharData/7--6.jpg', '/content/drive/MyDrive/ML/tamilCharData/2--9.jpg', '/content/drive/MyDrive/ML/tamilCharData/7--10.jpg', '/content/drive/MyDrive/ML/tamilCharData/12--8.jpg', '/content/drive/MyDrive/ML/tamilCharData/11--11.jpg', '/content/drive/MyDrive/ML/tamilCharData/8--12.jpg', '/content/drive/MyDrive/ML/tamilCharData/8--10.jpg', '/content/drive/MyDrive/ML/tamilCharData/7--11.jpg', '/content/drive/MyDrive/ML/tamilCharData/5--12.jpg', '/content/drive/MyDrive/ML/tamilCharData/6--14.jpg', '/content/drive/MyDrive/ML/tamilCharData/11--13.jpg', '/content/drive/MyDrive/ML/tamilCharData/6--15.jpg', '/content/drive/MyDrive/ML/tamilCharData/6--11.jpg', '/content/drive/MyDrive/ML/tamilCharData/2--8.jpg', '/content/drive/MyDrive/ML/tamilCharData/6--12.jpg', '/content/drive/MyDrive/ML/tamilCharData/7--9.jpg', '/content/drive/MyDrive/ML/tamilCharData/1--12.jpg', '/content/drive/MyDrive/ML/tamilCharData/2--10.jpg', '/content/drive/MyDrive/ML/tamilCharData/4--10.jpg', '/content/drive/MyDrive/ML/tamilCharData/4--9.jpg', '/content/drive/MyDrive/ML/tamilCharData/7--8.jpg', '/content/drive/MyDrive/ML/tamilCharData/9--15.jpg', '/content/drive/MyDrive/ML/tamilCharData/1--7.jpg', '/content/drive/MyDrive/ML/tamilCharData/3--9.jpg', '/content/drive/MyDrive/ML/tamilCharData/8--13.jpg', '/content/drive/MyDrive/ML/tamilCharData/12--10.jpg', '/content/drive/MyDrive/ML/tamilCharData/10--6.jpg', '/content/drive/MyDrive/ML/tamilCharData/4--11.jpg', '/content/drive/MyDrive/ML/tamilCharData/11--8.jpg', '/content/drive/MyDrive/ML/tamilCharData/12--11.jpg', '/content/drive/MyDrive/ML/tamilCharData/3--7.jpg', '/content/drive/MyDrive/ML/tamilCharData/12--9.jpg', '/content/drive/MyDrive/ML/tamilCharData/5--8.jpg', '/content/drive/MyDrive/ML/tamilCharData/3--10.jpg', '/content/drive/MyDrive/ML/tamilCharData/1--5.jpg', '/content/drive/MyDrive/ML/tamilCharData/2--13.jpg', '/content/drive/MyDrive/ML/tamilCharData/3--13.jpg', '/content/drive/MyDrive/ML/tamilCharData/5--13.jpg', '/content/drive/MyDrive/ML/tamilCharData/2--12.jpg', '/content/drive/MyDrive/ML/tamilCharData/5--7.jpg', '/content/drive/MyDrive/ML/tamilCharData/10--9.jpg', '/content/drive/MyDrive/ML/tamilCharData/11--12.jpg', '/content/drive/MyDrive/ML/tamilCharData/7--7.jpg', '/content/drive/MyDrive/ML/tamilCharData/7--12.jpg', '/content/drive/MyDrive/ML/tamilCharData/9--10.jpg', '/content/drive/MyDrive/ML/tamilCharData/4--12.jpg', '/content/drive/MyDrive/ML/tamilCharData/8--11.jpg', '/content/drive/MyDrive/ML/tamilCharData/6--13.jpg', '/content/drive/MyDrive/ML/tamilCharData/9--13.jpg', '/content/drive/MyDrive/ML/tamilCharData/6--10.jpg', '/content/drive/MyDrive/ML/tamilCharData/12--6.jpg', '/content/drive/MyDrive/ML/tamilCharData/10--7.jpg', '/content/drive/MyDrive/ML/tamilCharData/5--9.jpg', '/content/drive/MyDrive/ML/tamilCharData/10--10.jpg', '/content/drive/MyDrive/ML/tamilCharData/4--13.jpg', '/content/drive/MyDrive/ML/tamilCharData/10--11.jpg', '/content/drive/MyDrive/ML/tamilCharData/1--8.jpg', '/content/drive/MyDrive/ML/tamilCharData/8--9.jpg', '/content/drive/MyDrive/ML/tamilCharData/3--16.jpg', '/content/drive/MyDrive/ML/tamilCharData/12--17.jpg', '/content/drive/MyDrive/ML/tamilCharData/4--20.jpg', '/content/drive/MyDrive/ML/tamilCharData/6--17.jpg', '/content/drive/MyDrive/ML/tamilCharData/1--18.jpg', '/content/drive/MyDrive/ML/tamilCharData/3--15.jpg', '/content/drive/MyDrive/ML/tamilCharData/4--15.jpg', '/content/drive/MyDrive/ML/tamilCharData/9--19.jpg', '/content/drive/MyDrive/ML/tamilCharData/10--13.jpg', '/content/drive/MyDrive/ML/tamilCharData/5--17.jpg', '/content/drive/MyDrive/ML/tamilCharData/8--18.jpg', '/content/drive/MyDrive/ML/tamilCharData/8--21.jpg', '/content/drive/MyDrive/ML/tamilCharData/4--18.jpg', '/content/drive/MyDrive/ML/tamilCharData/1--19.jpg', '/content/drive/MyDrive/ML/tamilCharData/8--20.jpg', '/content/drive/MyDrive/ML/tamilCharData/5--15.jpg', '/content/drive/MyDrive/ML/tamilCharData/10--12.jpg', '/content/drive/MyDrive/ML/tamilCharData/2--18.jpg', '/content/drive/MyDrive/ML/tamilCharData/6--19.jpg', '/content/drive/MyDrive/ML/tamilCharData/11--16.jpg', '/content/drive/MyDrive/ML/tamilCharData/2--16.jpg', '/content/drive/MyDrive/ML/tamilCharData/1--15.jpg', '/content/drive/MyDrive/ML/tamilCharData/5--19.jpg', '/content/drive/MyDrive/ML/tamilCharData/1--14.jpg', '/content/drive/MyDrive/ML/tamilCharData/11--15.jpg', '/content/drive/MyDrive/ML/tamilCharData/12--14.jpg', '/content/drive/MyDrive/ML/tamilCharData/2--14.jpg', '/content/drive/MyDrive/ML/tamilCharData/9--22.jpg', '/content/drive/MyDrive/ML/tamilCharData/5--18.jpg', '/content/drive/MyDrive/ML/tamilCharData/7--18.jpg', '/content/drive/MyDrive/ML/tamilCharData/7--16.jpg', '/content/drive/MyDrive/ML/tamilCharData/11--19.jpg', '/content/drive/MyDrive/ML/tamilCharData/2--17.jpg', '/content/drive/MyDrive/ML/tamilCharData/1--16.jpg', '/content/drive/MyDrive/ML/tamilCharData/7--15.jpg', '/content/drive/MyDrive/ML/tamilCharData/1--13.jpg', '/content/drive/MyDrive/ML/tamilCharData/10--18.jpg', '/content/drive/MyDrive/ML/tamilCharData/12--12.jpg', '/content/drive/MyDrive/ML/tamilCharData/7--19.jpg', '/content/drive/MyDrive/ML/tamilCharData/12--15.jpg', '/content/drive/MyDrive/ML/tamilCharData/12--16.jpg', '/content/drive/MyDrive/ML/tamilCharData/3--14.jpg', '/content/drive/MyDrive/ML/tamilCharData/6--20.jpg', '/content/drive/MyDrive/ML/tamilCharData/3--18.jpg', '/content/drive/MyDrive/ML/tamilCharData/4--17.jpg', '/content/drive/MyDrive/ML/tamilCharData/7--17.jpg', '/content/drive/MyDrive/ML/tamilCharData/10--14.jpg', '/content/drive/MyDrive/ML/tamilCharData/7--14.jpg', '/content/drive/MyDrive/ML/tamilCharData/4--16.jpg', '/content/drive/MyDrive/ML/tamilCharData/9--21.jpg', '/content/drive/MyDrive/ML/tamilCharData/6--18.jpg', '/content/drive/MyDrive/ML/tamilCharData/9--17.jpg', '/content/drive/MyDrive/ML/tamilCharData/10--16.jpg', '/content/drive/MyDrive/ML/tamilCharData/10--17.jpg', '/content/drive/MyDrive/ML/tamilCharData/9--18.jpg', '/content/drive/MyDrive/ML/tamilCharData/5--16.jpg', '/content/drive/MyDrive/ML/tamilCharData/12--13.jpg', '/content/drive/MyDrive/ML/tamilCharData/11--20.jpg', '/content/drive/MyDrive/ML/tamilCharData/6--22.jpg', '/content/drive/MyDrive/ML/tamilCharData/11--18.jpg', '/content/drive/MyDrive/ML/tamilCharData/4--19.jpg', '/content/drive/MyDrive/ML/tamilCharData/8--17.jpg', '/content/drive/MyDrive/ML/tamilCharData/3--17.jpg', '/content/drive/MyDrive/ML/tamilCharData/2--15.jpg', '/content/drive/MyDrive/ML/tamilCharData/8--19.jpg', '/content/drive/MyDrive/ML/tamilCharData/8--16.jpg', '/content/drive/MyDrive/ML/tamilCharData/7--13.jpg', '/content/drive/MyDrive/ML/tamilCharData/6--21.jpg', '/content/drive/MyDrive/ML/tamilCharData/9--20.jpg', '/content/drive/MyDrive/ML/tamilCharData/4--21.jpg', '/content/drive/MyDrive/ML/tamilCharData/5--14.jpg', '/content/drive/MyDrive/ML/tamilCharData/1--17.jpg', '/content/drive/MyDrive/ML/tamilCharData/10--15.jpg', '/content/drive/MyDrive/ML/tamilCharData/11--17.jpg', '/content/drive/MyDrive/ML/tamilCharData/5--20.jpg', '/content/drive/MyDrive/ML/tamilCharData/1--21.jpg', '/content/drive/MyDrive/ML/tamilCharData/2--20.jpg', '/content/drive/MyDrive/ML/tamilCharData/12--19.jpg', '/content/drive/MyDrive/ML/tamilCharData/8--22.jpg', '/content/drive/MyDrive/ML/tamilCharData/6--23.jpg', '/content/drive/MyDrive/ML/tamilCharData/7--21.jpg', '/content/drive/MyDrive/ML/tamilCharData/3--19.jpg', '/content/drive/MyDrive/ML/tamilCharData/11--21.jpg', '/content/drive/MyDrive/ML/tamilCharData/10--20.jpg', '/content/drive/MyDrive/ML/tamilCharData/4--22.jpg', '/content/drive/MyDrive/ML/tamilCharData/10--19.jpg', '/content/drive/MyDrive/ML/tamilCharData/5--21.jpg', '/content/drive/MyDrive/ML/tamilCharData/9--23.jpg', '/content/drive/MyDrive/ML/tamilCharData/7--20.jpg', '/content/drive/MyDrive/ML/tamilCharData/1--20.jpg', '/content/drive/MyDrive/ML/tamilCharData/3--20.jpg', '/content/drive/MyDrive/ML/tamilCharData/2--19.jpg', '/content/drive/MyDrive/ML/tamilCharData/12--18.jpg', '/content/drive/MyDrive/ML/tamilCharData/4--23.jpg', '/content/drive/MyDrive/ML/tamilCharData/8--23.jpg', '/content/drive/MyDrive/ML/tamilCharData/10--21.jpg', '/content/drive/MyDrive/ML/tamilCharData/1--22.jpg', '/content/drive/MyDrive/ML/tamilCharData/3--23.jpg', '/content/drive/MyDrive/ML/tamilCharData/3--24.jpg', '/content/drive/MyDrive/ML/tamilCharData/9--26.jpg', '/content/drive/MyDrive/ML/tamilCharData/8--24.jpg', '/content/drive/MyDrive/ML/tamilCharData/1--23.jpg', '/content/drive/MyDrive/ML/tamilCharData/6--25.jpg', '/content/drive/MyDrive/ML/tamilCharData/2--23.jpg', '/content/drive/MyDrive/ML/tamilCharData/11--25.jpg', '/content/drive/MyDrive/ML/tamilCharData/4--27.jpg', '/content/drive/MyDrive/ML/tamilCharData/11--23.jpg', '/content/drive/MyDrive/ML/tamilCharData/6--26.jpg', '/content/drive/MyDrive/ML/tamilCharData/3--21.jpg', '/content/drive/MyDrive/ML/tamilCharData/4--26.jpg', '/content/drive/MyDrive/ML/tamilCharData/12--20.jpg', '/content/drive/MyDrive/ML/tamilCharData/2--22.jpg', '/content/drive/MyDrive/ML/tamilCharData/8--25.jpg', '/content/drive/MyDrive/ML/tamilCharData/5--23.jpg', '/content/drive/MyDrive/ML/tamilCharData/6--27.jpg', '/content/drive/MyDrive/ML/tamilCharData/6--24.jpg', '/content/drive/MyDrive/ML/tamilCharData/10--23.jpg', '/content/drive/MyDrive/ML/tamilCharData/9--25.jpg', '/content/drive/MyDrive/ML/tamilCharData/7--22.jpg', '/content/drive/MyDrive/ML/tamilCharData/12--21.jpg', '/content/drive/MyDrive/ML/tamilCharData/2--21.jpg', '/content/drive/MyDrive/ML/tamilCharData/5--24.jpg', '/content/drive/MyDrive/ML/tamilCharData/4--25.jpg', '/content/drive/MyDrive/ML/tamilCharData/11--24.jpg', '/content/drive/MyDrive/ML/tamilCharData/5--25.jpg', '/content/drive/MyDrive/ML/tamilCharData/10--22.jpg', '/content/drive/MyDrive/ML/tamilCharData/12--23.jpg', '/content/drive/MyDrive/ML/tamilCharData/3--22.jpg', '/content/drive/MyDrive/ML/tamilCharData/1--24.jpg', '/content/drive/MyDrive/ML/tamilCharData/5--22.jpg', '/content/drive/MyDrive/ML/tamilCharData/7--24.jpg', '/content/drive/MyDrive/ML/tamilCharData/7--23.jpg', '/content/drive/MyDrive/ML/tamilCharData/9--27.jpg', '/content/drive/MyDrive/ML/tamilCharData/9--24.jpg', '/content/drive/MyDrive/ML/tamilCharData/11--22.jpg', '/content/drive/MyDrive/ML/tamilCharData/12--22.jpg', '/content/drive/MyDrive/ML/tamilCharData/4--24.jpg', '/content/drive/MyDrive/ML/tamilCharData/8--26.jpg', '/content/drive/MyDrive/ML/tamilCharData/11--26.jpg', '/content/drive/MyDrive/ML/tamilCharData/8--32.jpg', '/content/drive/MyDrive/ML/tamilCharData/3--27.jpg', '/content/drive/MyDrive/ML/tamilCharData/3--30.jpg', '/content/drive/MyDrive/ML/tamilCharData/6--32.jpg', '/content/drive/MyDrive/ML/tamilCharData/9--32.jpg', '/content/drive/MyDrive/ML/tamilCharData/3--28.jpg', '/content/drive/MyDrive/ML/tamilCharData/2--25.jpg', '/content/drive/MyDrive/ML/tamilCharData/4--29.jpg', '/content/drive/MyDrive/ML/tamilCharData/5--26.jpg', '/content/drive/MyDrive/ML/tamilCharData/9--33.jpg', '/content/drive/MyDrive/ML/tamilCharData/11--30.jpg', '/content/drive/MyDrive/ML/tamilCharData/12--25.jpg', '/content/drive/MyDrive/ML/tamilCharData/11--29.jpg', '/content/drive/MyDrive/ML/tamilCharData/12--24.jpg', '/content/drive/MyDrive/ML/tamilCharData/6--28.jpg', '/content/drive/MyDrive/ML/tamilCharData/2--28.jpg', '/content/drive/MyDrive/ML/tamilCharData/11--27.jpg', '/content/drive/MyDrive/ML/tamilCharData/9--30.jpg', '/content/drive/MyDrive/ML/tamilCharData/7--26.jpg', '/content/drive/MyDrive/ML/tamilCharData/5--28.jpg', '/content/drive/MyDrive/ML/tamilCharData/1--30.jpg', '/content/drive/MyDrive/ML/tamilCharData/10--26.jpg', '/content/drive/MyDrive/ML/tamilCharData/2--27.jpg', '/content/drive/MyDrive/ML/tamilCharData/5--30.jpg', '/content/drive/MyDrive/ML/tamilCharData/10--27.jpg', '/content/drive/MyDrive/ML/tamilCharData/10--24.jpg', '/content/drive/MyDrive/ML/tamilCharData/1--28.jpg', '/content/drive/MyDrive/ML/tamilCharData/3--25.jpg', '/content/drive/MyDrive/ML/tamilCharData/10--30.jpg', '/content/drive/MyDrive/ML/tamilCharData/4--30.jpg', '/content/drive/MyDrive/ML/tamilCharData/7--29.jpg', '/content/drive/MyDrive/ML/tamilCharData/6--29.jpg', '/content/drive/MyDrive/ML/tamilCharData/6--33.jpg', '/content/drive/MyDrive/ML/tamilCharData/4--33.jpg', '/content/drive/MyDrive/ML/tamilCharData/5--27.jpg', '/content/drive/MyDrive/ML/tamilCharData/4--31.jpg', '/content/drive/MyDrive/ML/tamilCharData/8--29.jpg', '/content/drive/MyDrive/ML/tamilCharData/7--28.jpg', '/content/drive/MyDrive/ML/tamilCharData/10--25.jpg', '/content/drive/MyDrive/ML/tamilCharData/2--24.jpg', '/content/drive/MyDrive/ML/tamilCharData/6--31.jpg', '/content/drive/MyDrive/ML/tamilCharData/1--26.jpg', '/content/drive/MyDrive/ML/tamilCharData/10--29.jpg', '/content/drive/MyDrive/ML/tamilCharData/1--27.jpg', '/content/drive/MyDrive/ML/tamilCharData/9--29.jpg', '/content/drive/MyDrive/ML/tamilCharData/1--29.jpg', '/content/drive/MyDrive/ML/tamilCharData/12--28.jpg', '/content/drive/MyDrive/ML/tamilCharData/12--26.jpg', '/content/drive/MyDrive/ML/tamilCharData/4--32.jpg', '/content/drive/MyDrive/ML/tamilCharData/7--27.jpg', '/content/drive/MyDrive/ML/tamilCharData/8--31.jpg', '/content/drive/MyDrive/ML/tamilCharData/5--29.jpg', '/content/drive/MyDrive/ML/tamilCharData/8--30.jpg', '/content/drive/MyDrive/ML/tamilCharData/9--28.jpg', '/content/drive/MyDrive/ML/tamilCharData/9--31.jpg', '/content/drive/MyDrive/ML/tamilCharData/12--29.jpg', '/content/drive/MyDrive/ML/tamilCharData/1--25.jpg', '/content/drive/MyDrive/ML/tamilCharData/2--29.jpg', '/content/drive/MyDrive/ML/tamilCharData/7--25.jpg', '/content/drive/MyDrive/ML/tamilCharData/3--26.jpg', '/content/drive/MyDrive/ML/tamilCharData/3--29.jpg', '/content/drive/MyDrive/ML/tamilCharData/8--27.jpg', '/content/drive/MyDrive/ML/tamilCharData/5--31.jpg', '/content/drive/MyDrive/ML/tamilCharData/6--30.jpg', '/content/drive/MyDrive/ML/tamilCharData/2--26.jpg', '/content/drive/MyDrive/ML/tamilCharData/11--28.jpg', '/content/drive/MyDrive/ML/tamilCharData/4--28.jpg', '/content/drive/MyDrive/ML/tamilCharData/1--31.jpg', '/content/drive/MyDrive/ML/tamilCharData/7--30.jpg', '/content/drive/MyDrive/ML/tamilCharData/12--27.jpg', '/content/drive/MyDrive/ML/tamilCharData/10--28.jpg', '/content/drive/MyDrive/ML/tamilCharData/11--31.jpg', '/content/drive/MyDrive/ML/tamilCharData/8--28.jpg', '/content/drive/MyDrive/ML/tamilCharData/9--39.jpg', '/content/drive/MyDrive/ML/tamilCharData/4--39.jpg', '/content/drive/MyDrive/ML/tamilCharData/9--35.jpg', '/content/drive/MyDrive/ML/tamilCharData/8--37.jpg', '/content/drive/MyDrive/ML/tamilCharData/7--31.jpg', '/content/drive/MyDrive/ML/tamilCharData/8--36.jpg', '/content/drive/MyDrive/ML/tamilCharData/3--34.jpg', '/content/drive/MyDrive/ML/tamilCharData/9--37.jpg', '/content/drive/MyDrive/ML/tamilCharData/12--31.jpg', '/content/drive/MyDrive/ML/tamilCharData/1--32.jpg', '/content/drive/MyDrive/ML/tamilCharData/2--30.jpg', '/content/drive/MyDrive/ML/tamilCharData/6--37.jpg', '/content/drive/MyDrive/ML/tamilCharData/10--31.jpg', '/content/drive/MyDrive/ML/tamilCharData/3--33.jpg', '/content/drive/MyDrive/ML/tamilCharData/4--40.jpg', '/content/drive/MyDrive/ML/tamilCharData/7--34.jpg', '/content/drive/MyDrive/ML/tamilCharData/11--36.jpg', '/content/drive/MyDrive/ML/tamilCharData/1--36.jpg', '/content/drive/MyDrive/ML/tamilCharData/7--37.jpg', '/content/drive/MyDrive/ML/tamilCharData/1--35.jpg', '/content/drive/MyDrive/ML/tamilCharData/7--35.jpg', '/content/drive/MyDrive/ML/tamilCharData/5--36.jpg', '/content/drive/MyDrive/ML/tamilCharData/11--35.jpg', '/content/drive/MyDrive/ML/tamilCharData/11--34.jpg', '/content/drive/MyDrive/ML/tamilCharData/3--36.jpg', '/content/drive/MyDrive/ML/tamilCharData/9--36.jpg', '/content/drive/MyDrive/ML/tamilCharData/4--35.jpg', '/content/drive/MyDrive/ML/tamilCharData/8--35.jpg', '/content/drive/MyDrive/ML/tamilCharData/2--35.jpg', '/content/drive/MyDrive/ML/tamilCharData/3--32.jpg', '/content/drive/MyDrive/ML/tamilCharData/3--31.jpg', '/content/drive/MyDrive/ML/tamilCharData/5--34.jpg', '/content/drive/MyDrive/ML/tamilCharData/2--33.jpg', '/content/drive/MyDrive/ML/tamilCharData/11--32.jpg', '/content/drive/MyDrive/ML/tamilCharData/6--36.jpg', '/content/drive/MyDrive/ML/tamilCharData/2--34.jpg', '/content/drive/MyDrive/ML/tamilCharData/12--30.jpg', '/content/drive/MyDrive/ML/tamilCharData/6--35.jpg', '/content/drive/MyDrive/ML/tamilCharData/12--33.jpg', '/content/drive/MyDrive/ML/tamilCharData/5--33.jpg', '/content/drive/MyDrive/ML/tamilCharData/4--37.jpg', '/content/drive/MyDrive/ML/tamilCharData/2--32.jpg', '/content/drive/MyDrive/ML/tamilCharData/12--32.jpg', '/content/drive/MyDrive/ML/tamilCharData/6--39.jpg', '/content/drive/MyDrive/ML/tamilCharData/7--36.jpg', '/content/drive/MyDrive/ML/tamilCharData/5--35.jpg', '/content/drive/MyDrive/ML/tamilCharData/11--37.jpg', '/content/drive/MyDrive/ML/tamilCharData/5--37.jpg', '/content/drive/MyDrive/ML/tamilCharData/10--35.jpg', '/content/drive/MyDrive/ML/tamilCharData/2--31.jpg', '/content/drive/MyDrive/ML/tamilCharData/3--35.jpg', '/content/drive/MyDrive/ML/tamilCharData/8--38.jpg', '/content/drive/MyDrive/ML/tamilCharData/10--33.jpg', '/content/drive/MyDrive/ML/tamilCharData/7--32.jpg', '/content/drive/MyDrive/ML/tamilCharData/6--38.jpg', '/content/drive/MyDrive/ML/tamilCharData/7--33.jpg', '/content/drive/MyDrive/ML/tamilCharData/10--34.jpg', '/content/drive/MyDrive/ML/tamilCharData/5--32.jpg', '/content/drive/MyDrive/ML/tamilCharData/6--34.jpg', '/content/drive/MyDrive/ML/tamilCharData/1--33.jpg', '/content/drive/MyDrive/ML/tamilCharData/10--36.jpg', '/content/drive/MyDrive/ML/tamilCharData/4--34.jpg', '/content/drive/MyDrive/ML/tamilCharData/8--33.jpg', '/content/drive/MyDrive/ML/tamilCharData/11--33.jpg', '/content/drive/MyDrive/ML/tamilCharData/1--34.jpg', '/content/drive/MyDrive/ML/tamilCharData/4--36.jpg', '/content/drive/MyDrive/ML/tamilCharData/8--34.jpg', '/content/drive/MyDrive/ML/tamilCharData/9--38.jpg', '/content/drive/MyDrive/ML/tamilCharData/10--32.jpg', '/content/drive/MyDrive/ML/tamilCharData/4--38.jpg', '/content/drive/MyDrive/ML/tamilCharData/1--37.jpg', '/content/drive/MyDrive/ML/tamilCharData/12--34.jpg', '/content/drive/MyDrive/ML/tamilCharData/9--34.jpg', '/content/drive/MyDrive/ML/tamilCharData/2--39.jpg', '/content/drive/MyDrive/ML/tamilCharData/12--39.jpg', '/content/drive/MyDrive/ML/tamilCharData/3--37.jpg', '/content/drive/MyDrive/ML/tamilCharData/2--38.jpg', '/content/drive/MyDrive/ML/tamilCharData/12--37.jpg', '/content/drive/MyDrive/ML/tamilCharData/10--37.jpg', '/content/drive/MyDrive/ML/tamilCharData/2--36.jpg', '/content/drive/MyDrive/ML/tamilCharData/2--37.jpg', '/content/drive/MyDrive/ML/tamilCharData/11--39.jpg', '/content/drive/MyDrive/ML/tamilCharData/3--38.jpg', '/content/drive/MyDrive/ML/tamilCharData/12--38.jpg', '/content/drive/MyDrive/ML/tamilCharData/8--39.jpg', '/content/drive/MyDrive/ML/tamilCharData/1--40.jpg', '/content/drive/MyDrive/ML/tamilCharData/11--40.jpg', '/content/drive/MyDrive/ML/tamilCharData/6--40.jpg', '/content/drive/MyDrive/ML/tamilCharData/10--40.jpg', '/content/drive/MyDrive/ML/tamilCharData/3--39.jpg', '/content/drive/MyDrive/ML/tamilCharData/7--40.jpg', '/content/drive/MyDrive/ML/tamilCharData/9--40.jpg', '/content/drive/MyDrive/ML/tamilCharData/12--40.jpg', '/content/drive/MyDrive/ML/tamilCharData/3--40.jpg', '/content/drive/MyDrive/ML/tamilCharData/5--38.jpg', '/content/drive/MyDrive/ML/tamilCharData/10--39.jpg', '/content/drive/MyDrive/ML/tamilCharData/8--40.jpg', '/content/drive/MyDrive/ML/tamilCharData/1--38.jpg', '/content/drive/MyDrive/ML/tamilCharData/12--35.jpg', '/content/drive/MyDrive/ML/tamilCharData/1--39.jpg', '/content/drive/MyDrive/ML/tamilCharData/7--39.jpg', '/content/drive/MyDrive/ML/tamilCharData/11--38.jpg', '/content/drive/MyDrive/ML/tamilCharData/2--40.jpg', '/content/drive/MyDrive/ML/tamilCharData/12--36.jpg', '/content/drive/MyDrive/ML/tamilCharData/5--40.jpg', '/content/drive/MyDrive/ML/tamilCharData/10--38.jpg', '/content/drive/MyDrive/ML/tamilCharData/7--38.jpg', '/content/drive/MyDrive/ML/tamilCharData/5--39.jpg', '/content/drive/MyDrive/ML/tamilCharData/10--41.jpg', '/content/drive/MyDrive/ML/tamilCharData/4--42.jpg', '/content/drive/MyDrive/ML/tamilCharData/3--43.jpg', '/content/drive/MyDrive/ML/tamilCharData/3--41.jpg', '/content/drive/MyDrive/ML/tamilCharData/8--42.jpg', '/content/drive/MyDrive/ML/tamilCharData/3--42.jpg', '/content/drive/MyDrive/ML/tamilCharData/7--41.jpg', '/content/drive/MyDrive/ML/tamilCharData/6--41.jpg', '/content/drive/MyDrive/ML/tamilCharData/6--42.jpg', '/content/drive/MyDrive/ML/tamilCharData/1--41.jpg', '/content/drive/MyDrive/ML/tamilCharData/5--43.jpg', '/content/drive/MyDrive/ML/tamilCharData/5--41.jpg', '/content/drive/MyDrive/ML/tamilCharData/9--41.jpg', '/content/drive/MyDrive/ML/tamilCharData/7--42.jpg', '/content/drive/MyDrive/ML/tamilCharData/9--42.jpg', '/content/drive/MyDrive/ML/tamilCharData/8--41.jpg', '/content/drive/MyDrive/ML/tamilCharData/6--43.jpg', '/content/drive/MyDrive/ML/tamilCharData/11--42.jpg', '/content/drive/MyDrive/ML/tamilCharData/12--41.jpg', '/content/drive/MyDrive/ML/tamilCharData/12--42.jpg', '/content/drive/MyDrive/ML/tamilCharData/1--43.jpg', '/content/drive/MyDrive/ML/tamilCharData/4--41.jpg', '/content/drive/MyDrive/ML/tamilCharData/2--42.jpg', '/content/drive/MyDrive/ML/tamilCharData/2--41.jpg', '/content/drive/MyDrive/ML/tamilCharData/5--42.jpg', '/content/drive/MyDrive/ML/tamilCharData/11--41.jpg', '/content/drive/MyDrive/ML/tamilCharData/10--43.jpg', '/content/drive/MyDrive/ML/tamilCharData/1--42.jpg', '/content/drive/MyDrive/ML/tamilCharData/10--42.jpg', '/content/drive/MyDrive/ML/tamilCharData/7--44.jpg', '/content/drive/MyDrive/ML/tamilCharData/1--48.jpg', '/content/drive/MyDrive/ML/tamilCharData/8--44.jpg', '/content/drive/MyDrive/ML/tamilCharData/2--44.jpg', '/content/drive/MyDrive/ML/tamilCharData/12--46.jpg', '/content/drive/MyDrive/ML/tamilCharData/9--43.jpg', '/content/drive/MyDrive/ML/tamilCharData/2--45.jpg', '/content/drive/MyDrive/ML/tamilCharData/1--45.jpg', '/content/drive/MyDrive/ML/tamilCharData/3--48.jpg', '/content/drive/MyDrive/ML/tamilCharData/1--46.jpg', '/content/drive/MyDrive/ML/tamilCharData/9--48.jpg', '/content/drive/MyDrive/ML/tamilCharData/5--47.jpg', '/content/drive/MyDrive/ML/tamilCharData/3--45.jpg', '/content/drive/MyDrive/ML/tamilCharData/6--48.jpg', '/content/drive/MyDrive/ML/tamilCharData/10--46.jpg', '/content/drive/MyDrive/ML/tamilCharData/8--48.jpg', '/content/drive/MyDrive/ML/tamilCharData/11--46.jpg', '/content/drive/MyDrive/ML/tamilCharData/8--47.jpg', '/content/drive/MyDrive/ML/tamilCharData/10--45.jpg', '/content/drive/MyDrive/ML/tamilCharData/8--43.jpg', '/content/drive/MyDrive/ML/tamilCharData/11--47.jpg', '/content/drive/MyDrive/ML/tamilCharData/12--45.jpg', '/content/drive/MyDrive/ML/tamilCharData/3--49.jpg', '/content/drive/MyDrive/ML/tamilCharData/4--48.jpg', '/content/drive/MyDrive/ML/tamilCharData/12--43.jpg', '/content/drive/MyDrive/ML/tamilCharData/1--44.jpg', '/content/drive/MyDrive/ML/tamilCharData/2--43.jpg', '/content/drive/MyDrive/ML/tamilCharData/10--49.jpg', '/content/drive/MyDrive/ML/tamilCharData/10--48.jpg', '/content/drive/MyDrive/ML/tamilCharData/4--43.jpg', '/content/drive/MyDrive/ML/tamilCharData/3--47.jpg', '/content/drive/MyDrive/ML/tamilCharData/12--47.jpg', '/content/drive/MyDrive/ML/tamilCharData/11--44.jpg', '/content/drive/MyDrive/ML/tamilCharData/9--46.jpg', '/content/drive/MyDrive/ML/tamilCharData/4--46.jpg', '/content/drive/MyDrive/ML/tamilCharData/4--44.jpg', '/content/drive/MyDrive/ML/tamilCharData/9--44.jpg', '/content/drive/MyDrive/ML/tamilCharData/3--46.jpg', '/content/drive/MyDrive/ML/tamilCharData/9--47.jpg', '/content/drive/MyDrive/ML/tamilCharData/10--44.jpg', '/content/drive/MyDrive/ML/tamilCharData/12--48.jpg', '/content/drive/MyDrive/ML/tamilCharData/5--46.jpg', '/content/drive/MyDrive/ML/tamilCharData/4--47.jpg', '/content/drive/MyDrive/ML/tamilCharData/2--47.jpg', '/content/drive/MyDrive/ML/tamilCharData/7--48.jpg', '/content/drive/MyDrive/ML/tamilCharData/9--45.jpg', '/content/drive/MyDrive/ML/tamilCharData/5--48.jpg', '/content/drive/MyDrive/ML/tamilCharData/11--48.jpg', '/content/drive/MyDrive/ML/tamilCharData/3--44.jpg', '/content/drive/MyDrive/ML/tamilCharData/10--47.jpg', '/content/drive/MyDrive/ML/tamilCharData/5--44.jpg', '/content/drive/MyDrive/ML/tamilCharData/2--48.jpg', '/content/drive/MyDrive/ML/tamilCharData/5--45.jpg', '/content/drive/MyDrive/ML/tamilCharData/2--46.jpg', '/content/drive/MyDrive/ML/tamilCharData/4--45.jpg', '/content/drive/MyDrive/ML/tamilCharData/7--45.jpg', '/content/drive/MyDrive/ML/tamilCharData/7--43.jpg', '/content/drive/MyDrive/ML/tamilCharData/7--46.jpg', '/content/drive/MyDrive/ML/tamilCharData/6--47.jpg', '/content/drive/MyDrive/ML/tamilCharData/8--46.jpg', '/content/drive/MyDrive/ML/tamilCharData/5--49.jpg', '/content/drive/MyDrive/ML/tamilCharData/6--45.jpg', '/content/drive/MyDrive/ML/tamilCharData/8--45.jpg', '/content/drive/MyDrive/ML/tamilCharData/11--43.jpg', '/content/drive/MyDrive/ML/tamilCharData/12--44.jpg', '/content/drive/MyDrive/ML/tamilCharData/6--46.jpg', '/content/drive/MyDrive/ML/tamilCharData/6--49.jpg', '/content/drive/MyDrive/ML/tamilCharData/1--47.jpg', '/content/drive/MyDrive/ML/tamilCharData/6--44.jpg', '/content/drive/MyDrive/ML/tamilCharData/7--47.jpg', '/content/drive/MyDrive/ML/tamilCharData/11--45.jpg', '/content/drive/MyDrive/ML/tamilCharData/11--55.jpg', '/content/drive/MyDrive/ML/tamilCharData/7--54.jpg', '/content/drive/MyDrive/ML/tamilCharData/6--52.jpg', '/content/drive/MyDrive/ML/tamilCharData/11--53.jpg', '/content/drive/MyDrive/ML/tamilCharData/10--51.jpg', '/content/drive/MyDrive/ML/tamilCharData/9--54.jpg', '/content/drive/MyDrive/ML/tamilCharData/12--52.jpg', '/content/drive/MyDrive/ML/tamilCharData/10--53.jpg', '/content/drive/MyDrive/ML/tamilCharData/10--56.jpg', '/content/drive/MyDrive/ML/tamilCharData/2--54.jpg', '/content/drive/MyDrive/ML/tamilCharData/6--54.jpg', '/content/drive/MyDrive/ML/tamilCharData/3--54.jpg', '/content/drive/MyDrive/ML/tamilCharData/1--52.jpg', '/content/drive/MyDrive/ML/tamilCharData/11--50.jpg', '/content/drive/MyDrive/ML/tamilCharData/3--56.jpg', '/content/drive/MyDrive/ML/tamilCharData/5--55.jpg', '/content/drive/MyDrive/ML/tamilCharData/4--50.jpg', '/content/drive/MyDrive/ML/tamilCharData/12--49.jpg', '/content/drive/MyDrive/ML/tamilCharData/4--51.jpg', '/content/drive/MyDrive/ML/tamilCharData/5--52.jpg', '/content/drive/MyDrive/ML/tamilCharData/5--53.jpg', '/content/drive/MyDrive/ML/tamilCharData/1--49.jpg', '/content/drive/MyDrive/ML/tamilCharData/7--53.jpg', '/content/drive/MyDrive/ML/tamilCharData/11--54.jpg', '/content/drive/MyDrive/ML/tamilCharData/6--55.jpg', '/content/drive/MyDrive/ML/tamilCharData/3--53.jpg', '/content/drive/MyDrive/ML/tamilCharData/12--53.jpg', '/content/drive/MyDrive/ML/tamilCharData/7--52.jpg', '/content/drive/MyDrive/ML/tamilCharData/3--50.jpg', '/content/drive/MyDrive/ML/tamilCharData/3--51.jpg', '/content/drive/MyDrive/ML/tamilCharData/9--49.jpg', '/content/drive/MyDrive/ML/tamilCharData/10--55.jpg', '/content/drive/MyDrive/ML/tamilCharData/6--50.jpg', '/content/drive/MyDrive/ML/tamilCharData/7--50.jpg', '/content/drive/MyDrive/ML/tamilCharData/2--53.jpg', '/content/drive/MyDrive/ML/tamilCharData/9--50.jpg', '/content/drive/MyDrive/ML/tamilCharData/7--51.jpg', '/content/drive/MyDrive/ML/tamilCharData/6--53.jpg', '/content/drive/MyDrive/ML/tamilCharData/12--50.jpg', '/content/drive/MyDrive/ML/tamilCharData/10--50.jpg', '/content/drive/MyDrive/ML/tamilCharData/3--52.jpg', '/content/drive/MyDrive/ML/tamilCharData/2--51.jpg', '/content/drive/MyDrive/ML/tamilCharData/1--54.jpg', '/content/drive/MyDrive/ML/tamilCharData/5--50.jpg', '/content/drive/MyDrive/ML/tamilCharData/2--50.jpg', '/content/drive/MyDrive/ML/tamilCharData/10--54.jpg', '/content/drive/MyDrive/ML/tamilCharData/8--51.jpg', '/content/drive/MyDrive/ML/tamilCharData/8--52.jpg', '/content/drive/MyDrive/ML/tamilCharData/11--49.jpg', '/content/drive/MyDrive/ML/tamilCharData/11--51.jpg', '/content/drive/MyDrive/ML/tamilCharData/4--54.jpg', '/content/drive/MyDrive/ML/tamilCharData/12--54.jpg', '/content/drive/MyDrive/ML/tamilCharData/9--52.jpg', '/content/drive/MyDrive/ML/tamilCharData/8--53.jpg', '/content/drive/MyDrive/ML/tamilCharData/11--52.jpg', '/content/drive/MyDrive/ML/tamilCharData/5--54.jpg', '/content/drive/MyDrive/ML/tamilCharData/8--50.jpg', '/content/drive/MyDrive/ML/tamilCharData/1--50.jpg', '/content/drive/MyDrive/ML/tamilCharData/9--51.jpg', '/content/drive/MyDrive/ML/tamilCharData/8--49.jpg', '/content/drive/MyDrive/ML/tamilCharData/6--51.jpg', '/content/drive/MyDrive/ML/tamilCharData/12--51.jpg', '/content/drive/MyDrive/ML/tamilCharData/1--51.jpg', '/content/drive/MyDrive/ML/tamilCharData/2--52.jpg', '/content/drive/MyDrive/ML/tamilCharData/7--49.jpg', '/content/drive/MyDrive/ML/tamilCharData/4--53.jpg', '/content/drive/MyDrive/ML/tamilCharData/3--55.jpg', '/content/drive/MyDrive/ML/tamilCharData/8--55.jpg', '/content/drive/MyDrive/ML/tamilCharData/8--54.jpg', '/content/drive/MyDrive/ML/tamilCharData/2--49.jpg', '/content/drive/MyDrive/ML/tamilCharData/5--51.jpg', '/content/drive/MyDrive/ML/tamilCharData/1--53.jpg', '/content/drive/MyDrive/ML/tamilCharData/9--53.jpg', '/content/drive/MyDrive/ML/tamilCharData/10--52.jpg', '/content/drive/MyDrive/ML/tamilCharData/4--52.jpg', '/content/drive/MyDrive/ML/tamilCharData/4--49.jpg', '/content/drive/MyDrive/ML/tamilCharData/4--57.jpg', '/content/drive/MyDrive/ML/tamilCharData/4--59.jpg', '/content/drive/MyDrive/ML/tamilCharData/11--57.jpg', '/content/drive/MyDrive/ML/tamilCharData/9--59.jpg', '/content/drive/MyDrive/ML/tamilCharData/1--56.jpg', '/content/drive/MyDrive/ML/tamilCharData/8--58.jpg', '/content/drive/MyDrive/ML/tamilCharData/7--57.jpg', '/content/drive/MyDrive/ML/tamilCharData/1--59.jpg', '/content/drive/MyDrive/ML/tamilCharData/10--57.jpg', '/content/drive/MyDrive/ML/tamilCharData/3--62.jpg', '/content/drive/MyDrive/ML/tamilCharData/2--57.jpg', '/content/drive/MyDrive/ML/tamilCharData/10--59.jpg', '/content/drive/MyDrive/ML/tamilCharData/3--60.jpg', '/content/drive/MyDrive/ML/tamilCharData/3--59.jpg', '/content/drive/MyDrive/ML/tamilCharData/10--62.jpg', '/content/drive/MyDrive/ML/tamilCharData/5--61.jpg', '/content/drive/MyDrive/ML/tamilCharData/12--59.jpg', '/content/drive/MyDrive/ML/tamilCharData/6--57.jpg', '/content/drive/MyDrive/ML/tamilCharData/6--60.jpg', '/content/drive/MyDrive/ML/tamilCharData/6--56.jpg', '/content/drive/MyDrive/ML/tamilCharData/8--57.jpg', '/content/drive/MyDrive/ML/tamilCharData/12--60.jpg', '/content/drive/MyDrive/ML/tamilCharData/12--57.jpg', '/content/drive/MyDrive/ML/tamilCharData/10--61.jpg']\n"
          ]
        }
      ],
      "source": [
        "print(imagepaths)"
      ]
    },
    {
      "cell_type": "code",
      "execution_count": null,
      "metadata": {
        "id": "bAD67fkK_Al0"
      },
      "outputs": [],
      "source": [
        "# function to convert rgb to grayscale\n",
        "\n",
        "def rgb2gray(img) :\n",
        "  r = img[ :, :, 0]\n",
        "  g = img[ :, :, 1]\n",
        "  b = img[ :, :, 2]\n",
        "\n",
        "  return (0.2989 * r + 0.5870 * g + 0.1140 * b)\n"
      ]
    },
    {
      "cell_type": "code",
      "execution_count": null,
      "metadata": {
        "colab": {
          "background_save": true
        },
        "id": "tDPjJFmFxusn"
      },
      "outputs": [],
      "source": [
        "#storing the image from the imagepaths\n",
        "\n",
        "images = []\n",
        "\n",
        "for image in imagepaths :\n",
        "  try :\n",
        "    img = cv2.imread(image) # reading and storing the images on the img literal\n",
        "    img = rgb2gray(img) # converting the image to gray scale\n",
        "    img = cv2.resize(img, (30,30)) # resizing them from 480,480 to 30,30 to reduce the computations\n",
        "    images.append(img)\n",
        "    print(\"image loaded\")\n",
        "  except Exception as e :\n",
        "    print(f\"you got {e} error\")\n"
      ]
    },
    {
      "cell_type": "code",
      "execution_count": null,
      "metadata": {
        "colab": {
          "background_save": true
        },
        "id": "svNI-JBNAfW0",
        "outputId": "2272a9bc-99ee-48ab-e22f-aacce5711150"
      },
      "outputs": [
        {
          "data": {
            "text/plain": [
              "(30, 30)"
            ]
          },
          "execution_count": 8,
          "metadata": {},
          "output_type": "execute_result"
        }
      ],
      "source": [
        "images[0].shape"
      ]
    },
    {
      "cell_type": "code",
      "execution_count": null,
      "metadata": {
        "colab": {
          "background_save": true
        },
        "id": "kXTvDbCU9kWE",
        "outputId": "17661bd1-3d65-4ffd-baac-759cc377443c"
      },
      "outputs": [
        {
          "data": {
            "text/plain": [
              "<matplotlib.image.AxesImage at 0x79c27d124c70>"
            ]
          },
          "execution_count": 9,
          "metadata": {},
          "output_type": "execute_result"
        },
        {
          "data": {
            "image/png": "[encoded data removed]",
            "text/plain": [
              "<Figure size 640x480 with 1 Axes>"
            ]
          },
          "metadata": {},
          "output_type": "display_data"
        }
      ],
      "source": [
        "plt.imshow(images[550])"
      ]
    },
    {
      "cell_type": "code",
      "execution_count": null,
      "metadata": {
        "colab": {
          "background_save": true
        },
        "id": "icaScEt0Ab87",
        "outputId": "cbb5dcc0-3b61-4819-deee-d4cc58611fb7"
      },
      "outputs": [
        {
          "name": "stdout",
          "output_type": "stream",
          "text": [
            "12--3.jpg\n"
          ]
        }
      ],
      "source": [
        "# to produce the label name using the name of image in the image path\n",
        "labels = []\n",
        "\n",
        "for i in imagepaths :\n",
        "  labels.append(i[40::] )\n",
        "\n",
        "print(labels[550])"
      ]
    },
    {
      "cell_type": "code",
      "execution_count": null,
      "metadata": {
        "colab": {
          "background_save": true
        },
        "id": "9uk2SB8T9_3O"
      },
      "outputs": [],
      "source": [
        "def returnlabel(name) :\n",
        "  index = 0\n",
        "  while name[index] != \"-\" :\n",
        "    index += 1\n",
        "  name = name[0:index:1]\n",
        "  return name\n",
        "\n"
      ]
    },
    {
      "cell_type": "code",
      "execution_count": null,
      "metadata": {
        "colab": {
          "background_save": true
        },
        "id": "XCNW0CHYHUrc"
      },
      "outputs": [],
      "source": [
        "final_labels = []\n",
        "for label in labels :\n",
        "  lab = returnlabel(label)\n",
        "  final_labels.append(lab)\n",
        "\n"
      ]
    },
    {
      "cell_type": "code",
      "execution_count": null,
      "metadata": {
        "colab": {
          "background_save": true
        },
        "id": "51bti-9sLBQP",
        "outputId": "c23505b2-44be-4548-bac9-2fb49eafd3c6"
      },
      "outputs": [
        {
          "data": {
            "application/vnd.google.colaboratory.intrinsic+json": {
              "type": "string"
            },
            "text/plain": [
              "'1'"
            ]
          },
          "execution_count": 13,
          "metadata": {},
          "output_type": "execute_result"
        }
      ],
      "source": [
        "labels = final_labels.copy()\n",
        "labels[0]"
      ]
    },
    {
      "cell_type": "code",
      "execution_count": null,
      "metadata": {
        "colab": {
          "background_save": true
        },
        "id": "6xQLsBajKfAr"
      },
      "outputs": [],
      "source": [
        "for i in labels :\n",
        "  print(i)"
      ]
    },
    {
      "cell_type": "code",
      "execution_count": null,
      "metadata": {
        "colab": {
          "background_save": true
        },
        "id": "1Cj-X4D5M96b"
      },
      "outputs": [],
      "source": [
        "# now splitting the training and splitting datasets\n",
        "train_images = []\n",
        "train_labels = []\n",
        "\n",
        "for i in range(1000) :\n",
        "  train_images.append(images[i])\n",
        "  train_labels.append(int(labels[i]))\n",
        "\n",
        "test_images = []\n",
        "test_labels = []\n",
        "for i in range(1000, 1200) :\n",
        "  test_images.append(images[i])\n",
        "  test_labels.append(int(labels[i]))\n",
        "\n",
        "\n",
        "class_labels =  ['அ', 'ஆ', 'இ', 'ஈ', 'உ', 'ஊ', 'எ', 'ஏ', 'ஐ', 'ஒ', 'ஓ', 'ஔ']\n"
      ]
    },
    {
      "cell_type": "code",
      "execution_count": null,
      "metadata": {
        "colab": {
          "background_save": true
        },
        "id": "bsCGVQIJl4T0",
        "outputId": "7f719ea0-b8f7-4e9a-b30a-3da72dabdba6"
      },
      "outputs": [
        {
          "name": "stdout",
          "output_type": "stream",
          "text": [
            "[1, 4, 5, 5, 7, 12, 6, 7, 2, 10, 1, 11, 3, 9, 1, 6, 8, 4, 4, 4, 7, 3, 5, 12, 7, 5, 1, 4, 10, 8, 1, 9, 2, 11, 2, 2, 7, 8, 9, 5, 2, 12, 9, 11, 5, 6, 9, 3, 7, 8, 11, 3, 6, 4, 12, 6, 10, 4, 7, 11, 10, 10, 1, 4, 8, 11, 2, 2, 6, 5, 4, 5, 7, 9, 5, 4, 1, 8, 8, 3, 9, 7, 8, 11, 2, 6, 12, 1, 5, 6, 10, 11, 12, 8, 7, 8, 12, 1, 3, 9, 3, 12, 2, 9, 3, 7, 5, 12, 9, 10, 5, 2, 7, 6, 1, 10, 3, 3, 4, 9, 6, 11, 2, 1, 7, 9, 11, 8, 11, 5, 2, 4, 10, 11, 5, 10, 2, 9, 1, 9, 12, 10, 6, 8, 4, 1, 8, 12, 12, 9, 3, 9, 7, 11, 3, 3, 12, 2, 8, 2, 7, 7, 2, 7, 5, 12, 4, 4, 6, 11, 11, 3, 10, 8, 9, 7, 5, 10, 4, 1, 5, 4, 5, 7, 6, 11, 3, 3, 11, 7, 5, 2, 9, 6, 12, 8, 2, 4, 9, 10, 8, 5, 6, 1, 6, 1, 4, 10, 1, 12, 8, 3, 9, 6, 1, 1, 4, 6, 8, 3, 4, 8, 3, 6, 8, 11, 2, 1, 4, 5, 4, 2, 8, 2, 4, 10, 9, 1, 7, 10, 6, 7, 8, 8, 9, 2, 1, 10, 3, 5, 5, 9, 5, 9, 9, 6, 5, 11, 6, 12, 11, 12, 12, 10, 1, 3, 11, 7, 4, 3, 2, 11, 10, 1, 7, 5, 12, 2, 11, 12, 7, 12, 8, 3, 10, 10, 2, 8, 2, 1, 5, 6, 12, 9, 11, 5, 5, 7, 5, 9, 7, 9, 1, 4, 4, 12, 7, 10, 11, 10, 1, 5, 6, 10, 9, 2, 2, 10, 8, 3, 12, 5, 1, 3, 3, 8, 3, 7, 8, 4, 11, 6, 1, 7, 11, 4, 12, 8, 9, 3, 6, 11, 7, 3, 8, 12, 2, 2, 6, 10, 12, 11, 4, 12, 1, 12, 2, 9, 1, 7, 3, 6, 7, 1, 4, 5, 5, 10, 8, 6, 5, 5, 6, 1, 10, 1, 4, 1, 9, 5, 4, 6, 10, 7, 9, 11, 2, 6, 4, 7, 9, 12, 5, 2, 10, 2, 8, 3, 11, 3, 7, 3, 9, 7, 6, 10, 9, 10, 5, 12, 4, 12, 11, 8, 2, 3, 11, 8, 1, 2, 8, 11, 2, 7, 4, 11, 1, 8, 10, 8, 4, 3, 6, 12, 7, 9, 2, 12, 4, 8, 5, 3, 8, 11, 4, 1, 4, 7, 2, 3, 2, 7, 6, 10, 9, 1, 3, 10, 7, 5, 5, 12, 4, 10, 8, 8, 9, 11, 2, 10, 7, 9, 6, 6, 6, 1, 11, 5, 11, 12, 12, 3, 1, 2, 10, 9, 4, 2, 12, 2, 9, 7, 1, 6, 11, 3, 1, 2, 6, 12, 8, 2, 8, 6, 9, 12, 12, 8, 5, 5, 6, 11, 11, 6, 4, 11, 9, 9, 1, 9, 10, 9, 6, 11, 4, 4, 11, 6, 7, 9, 3, 5, 8, 11, 6, 2, 2, 8, 6, 9, 6, 10, 11, 9, 1, 6, 3, 3, 1, 3, 12, 5, 1, 8, 6, 12, 10, 4, 1, 9, 4, 10, 12, 5, 6, 12, 12, 8, 5, 9, 5, 2, 4, 4, 11, 8, 7, 2, 10, 9, 1, 7, 10, 2, 7, 11, 11, 9, 7, 8, 4, 4, 3, 3, 3, 12, 7, 11, 4, 6, 3, 9, 5, 9, 1, 4, 3, 1, 11, 10, 5, 9, 1, 2, 11, 11, 12, 8, 3, 8, 9, 2, 7, 2, 7, 12, 11, 8, 8, 7, 5, 6, 11, 6, 6, 2, 6, 7, 1, 2, 4, 4, 7, 9, 1, 3, 8, 12, 10, 4, 11, 12, 3, 12, 5, 3, 1, 2, 3, 5, 2, 5, 10, 11, 7, 7, 9, 4, 8, 6, 9, 6, 12, 10, 5, 10, 4, 10, 1, 8, 3, 12, 4, 6, 1, 3, 4, 9, 10, 5, 8, 8, 4, 1, 8, 5, 10, 2, 6, 11, 2, 1, 5, 1, 11, 12, 2, 9, 5, 7, 7, 11, 2, 1, 7, 1, 10, 12, 7, 12, 12, 3, 6, 3, 4, 7, 10, 7, 4, 9, 6, 9, 10, 10, 9, 5, 12, 11, 6, 11, 4, 8, 3, 2, 8, 8, 7, 6, 9, 4, 5, 1, 10, 11, 5, 1, 2, 12, 8, 6, 7, 3, 11, 10, 4, 10, 5, 9, 7, 1, 3, 2, 12, 4, 8, 10, 1, 3, 3, 9, 8, 1, 6, 2, 11, 4, 11, 6, 3, 4, 12, 2, 8, 5, 6, 6, 10, 9, 7, 12, 2, 5, 4, 11, 5, 10, 12, 3, 1, 5, 7, 7, 9, 9, 11, 12, 4, 8, 11, 8, 3, 3, 6, 9, 3, 2, 4, 5, 9, 11, 12, 11, 12, 6, 2, 11, 9, 7, 5, 1, 10, 2, 5, 10, 10, 1, 3, 10, 4, 7, 6, 6, 4, 5, 4, 8, 7, 10, 2, 6, 1, 10, 1, 9, 1, 12, 12, 4, 7, 8, 5, 8, 9, 9, 12, 1, 2, 7, 3, 3, 8, 5, 6, 2, 11, 4, 1, 7, 12, 10, 11, 8, 9, 4, 9, 8, 7, 8, 3, 9, 12, 1, 2, 6, 10, 3, 4, 7, 11, 1, 7, 1, 7, 5, 11, 11, 3, 9, 4, 8, 2, 3, 3, 5, 2, 11, 6, 2, 12, 6, 12, 5, 4, 2, 12, 6, 7, 5, 11, 5, 10, 2, 3, 8, 10, 7, 6, 7, 10, 5, 6, 1, 10, 4, 8, 11, 1, 4, 8, 9, 10, 4, 1, 12, 9, 2, 12, 3, 2, 12, 10, 2, 2, 11, 3, 12, 8, 1, 11, 6, 10, 3, 7, 9, 12, 3, 5, 10, 8, 1, 12, 1, 7, 11, 2, 12, 5, 10, 7, 5]\n"
          ]
        }
      ],
      "source": [
        "print(train_labels)"
      ]
    },
    {
      "cell_type": "code",
      "source": [
        "# assining the train_labels to 0-11 instead of 1-12\n",
        "for i in range(len(train_labels)) :\n",
        "  train_labels[i] -= 1\n"
      ],
      "metadata": {
        "id": "mRgUhgH5ACiJ"
      },
      "execution_count": 60,
      "outputs": []
    },
    {
      "cell_type": "code",
      "source": [
        "print(train_labels)"
      ],
      "metadata": {
        "colab": {
          "base_uri": "https://localhost:8080/"
        },
        "id": "_HltoegCAOFJ",
        "outputId": "3bc57d69-4713-4632-b286-865af5eadbca"
      },
      "execution_count": 61,
      "outputs": [
        {
          "output_type": "stream",
          "name": "stdout",
          "text": [
            "[0, 3, 4, 4, 6, 11, 5, 6, 1, 9, 0, 10, 2, 8, 0, 5, 7, 3, 3, 3, 6, 2, 4, 11, 6, 4, 0, 3, 9, 7, 0, 8, 1, 10, 1, 1, 6, 7, 8, 4, 1, 11, 8, 10, 4, 5, 8, 2, 6, 7, 10, 2, 5, 3, 11, 5, 9, 3, 6, 10, 9, 9, 0, 3, 7, 10, 1, 1, 5, 4, 3, 4, 6, 8, 4, 3, 0, 7, 7, 2, 8, 6, 7, 10, 1, 5, 11, 0, 4, 5, 9, 10, 11, 7, 6, 7, 11, 0, 2, 8, 2, 11, 1, 8, 2, 6, 4, 11, 8, 9, 4, 1, 6, 5, 0, 9, 2, 2, 3, 8, 5, 10, 1, 0, 6, 8, 10, 7, 10, 4, 1, 3, 9, 10, 4, 9, 1, 8, 0, 8, 11, 9, 5, 7, 3, 0, 7, 11, 11, 8, 2, 8, 6, 10, 2, 2, 11, 1, 7, 1, 6, 6, 1, 6, 4, 11, 3, 3, 5, 10, 10, 2, 9, 7, 8, 6, 4, 9, 3, 0, 4, 3, 4, 6, 5, 10, 2, 2, 10, 6, 4, 1, 8, 5, 11, 7, 1, 3, 8, 9, 7, 4, 5, 0, 5, 0, 3, 9, 0, 11, 7, 2, 8, 5, 0, 0, 3, 5, 7, 2, 3, 7, 2, 5, 7, 10, 1, 0, 3, 4, 3, 1, 7, 1, 3, 9, 8, 0, 6, 9, 5, 6, 7, 7, 8, 1, 0, 9, 2, 4, 4, 8, 4, 8, 8, 5, 4, 10, 5, 11, 10, 11, 11, 9, 0, 2, 10, 6, 3, 2, 1, 10, 9, 0, 6, 4, 11, 1, 10, 11, 6, 11, 7, 2, 9, 9, 1, 7, 1, 0, 4, 5, 11, 8, 10, 4, 4, 6, 4, 8, 6, 8, 0, 3, 3, 11, 6, 9, 10, 9, 0, 4, 5, 9, 8, 1, 1, 9, 7, 2, 11, 4, 0, 2, 2, 7, 2, 6, 7, 3, 10, 5, 0, 6, 10, 3, 11, 7, 8, 2, 5, 10, 6, 2, 7, 11, 1, 1, 5, 9, 11, 10, 3, 11, 0, 11, 1, 8, 0, 6, 2, 5, 6, 0, 3, 4, 4, 9, 7, 5, 4, 4, 5, 0, 9, 0, 3, 0, 8, 4, 3, 5, 9, 6, 8, 10, 1, 5, 3, 6, 8, 11, 4, 1, 9, 1, 7, 2, 10, 2, 6, 2, 8, 6, 5, 9, 8, 9, 4, 11, 3, 11, 10, 7, 1, 2, 10, 7, 0, 1, 7, 10, 1, 6, 3, 10, 0, 7, 9, 7, 3, 2, 5, 11, 6, 8, 1, 11, 3, 7, 4, 2, 7, 10, 3, 0, 3, 6, 1, 2, 1, 6, 5, 9, 8, 0, 2, 9, 6, 4, 4, 11, 3, 9, 7, 7, 8, 10, 1, 9, 6, 8, 5, 5, 5, 0, 10, 4, 10, 11, 11, 2, 0, 1, 9, 8, 3, 1, 11, 1, 8, 6, 0, 5, 10, 2, 0, 1, 5, 11, 7, 1, 7, 5, 8, 11, 11, 7, 4, 4, 5, 10, 10, 5, 3, 10, 8, 8, 0, 8, 9, 8, 5, 10, 3, 3, 10, 5, 6, 8, 2, 4, 7, 10, 5, 1, 1, 7, 5, 8, 5, 9, 10, 8, 0, 5, 2, 2, 0, 2, 11, 4, 0, 7, 5, 11, 9, 3, 0, 8, 3, 9, 11, 4, 5, 11, 11, 7, 4, 8, 4, 1, 3, 3, 10, 7, 6, 1, 9, 8, 0, 6, 9, 1, 6, 10, 10, 8, 6, 7, 3, 3, 2, 2, 2, 11, 6, 10, 3, 5, 2, 8, 4, 8, 0, 3, 2, 0, 10, 9, 4, 8, 0, 1, 10, 10, 11, 7, 2, 7, 8, 1, 6, 1, 6, 11, 10, 7, 7, 6, 4, 5, 10, 5, 5, 1, 5, 6, 0, 1, 3, 3, 6, 8, 0, 2, 7, 11, 9, 3, 10, 11, 2, 11, 4, 2, 0, 1, 2, 4, 1, 4, 9, 10, 6, 6, 8, 3, 7, 5, 8, 5, 11, 9, 4, 9, 3, 9, 0, 7, 2, 11, 3, 5, 0, 2, 3, 8, 9, 4, 7, 7, 3, 0, 7, 4, 9, 1, 5, 10, 1, 0, 4, 0, 10, 11, 1, 8, 4, 6, 6, 10, 1, 0, 6, 0, 9, 11, 6, 11, 11, 2, 5, 2, 3, 6, 9, 6, 3, 8, 5, 8, 9, 9, 8, 4, 11, 10, 5, 10, 3, 7, 2, 1, 7, 7, 6, 5, 8, 3, 4, 0, 9, 10, 4, 0, 1, 11, 7, 5, 6, 2, 10, 9, 3, 9, 4, 8, 6, 0, 2, 1, 11, 3, 7, 9, 0, 2, 2, 8, 7, 0, 5, 1, 10, 3, 10, 5, 2, 3, 11, 1, 7, 4, 5, 5, 9, 8, 6, 11, 1, 4, 3, 10, 4, 9, 11, 2, 0, 4, 6, 6, 8, 8, 10, 11, 3, 7, 10, 7, 2, 2, 5, 8, 2, 1, 3, 4, 8, 10, 11, 10, 11, 5, 1, 10, 8, 6, 4, 0, 9, 1, 4, 9, 9, 0, 2, 9, 3, 6, 5, 5, 3, 4, 3, 7, 6, 9, 1, 5, 0, 9, 0, 8, 0, 11, 11, 3, 6, 7, 4, 7, 8, 8, 11, 0, 1, 6, 2, 2, 7, 4, 5, 1, 10, 3, 0, 6, 11, 9, 10, 7, 8, 3, 8, 7, 6, 7, 2, 8, 11, 0, 1, 5, 9, 2, 3, 6, 10, 0, 6, 0, 6, 4, 10, 10, 2, 8, 3, 7, 1, 2, 2, 4, 1, 10, 5, 1, 11, 5, 11, 4, 3, 1, 11, 5, 6, 4, 10, 4, 9, 1, 2, 7, 9, 6, 5, 6, 9, 4, 5, 0, 9, 3, 7, 10, 0, 3, 7, 8, 9, 3, 0, 11, 8, 1, 11, 2, 1, 11, 9, 1, 1, 10, 2, 11, 7, 0, 10, 5, 9, 2, 6, 8, 11, 2, 4, 9, 7, 0, 11, 0, 6, 10, 1, 11, 4, 9, 6, 4]\n"
          ]
        }
      ]
    },
    {
      "cell_type": "code",
      "execution_count": 62,
      "metadata": {
        "colab": {
          "base_uri": "https://localhost:8080/",
          "height": 447
        },
        "id": "nuQr393APhCr",
        "outputId": "2a2cd4d8-29ca-42b0-923e-63ddd82eabc8"
      },
      "outputs": [
        {
          "output_type": "stream",
          "name": "stdout",
          "text": [
            "ஆ\n"
          ]
        },
        {
          "output_type": "display_data",
          "data": {
            "text/plain": [
              "<Figure size 640x480 with 1 Axes>"
            ],
            "image/png": "[encoded data removed]"
          },
          "metadata": {}
        }
      ],
      "source": [
        "plt.imshow(train_images[100])\n",
        "a = train_labels[100]\n",
        "print(class_labels[a - 1])"
      ]
    },
    {
      "cell_type": "code",
      "execution_count": 63,
      "metadata": {
        "id": "RhhY9ttqUm8s"
      },
      "outputs": [],
      "source": [
        "X_train = np.array(train_images)\n",
        "y_train = np.array(test_images)\n",
        "X_train.shape, y_train.shape\n",
        "\n",
        "X_train = X_train / 255  # feature scaling to reduce the magnitude of the weights involved in the network\n",
        "y_train = y_train / 255  # ,,,\n"
      ]
    },
    {
      "cell_type": "code",
      "execution_count": 64,
      "metadata": {
        "colab": {
          "base_uri": "https://localhost:8080/",
          "height": 35
        },
        "id": "8R8bx5TGZBTr",
        "outputId": "ab374350-51bd-4b96-ab0e-f5a6f236cbc2"
      },
      "outputs": [
        {
          "output_type": "execute_result",
          "data": {
            "text/plain": [
              "'\\nX_train.reshape(1000,30,30,1)\\ny_train.reshape(200,30,30,1)\\n'"
            ],
            "application/vnd.google.colaboratory.intrinsic+json": {
              "type": "string"
            }
          },
          "metadata": {},
          "execution_count": 64
        }
      ],
      "source": [
        "'''\n",
        "X_train.reshape(1000,30,30,1)\n",
        "y_train.reshape(200,30,30,1)\n",
        "'''"
      ]
    },
    {
      "cell_type": "code",
      "execution_count": 65,
      "metadata": {
        "id": "PzVAG40sYpMk"
      },
      "outputs": [],
      "source": [
        "\n",
        "X_labels = np.array(train_labels)\n",
        "y_labels = np.array(test_labels)"
      ]
    },
    {
      "cell_type": "code",
      "execution_count": 66,
      "metadata": {
        "colab": {
          "base_uri": "https://localhost:8080/"
        },
        "id": "wcqkQ2dIZFi7",
        "outputId": "a7873da8-d48e-46b3-9d8c-57887fab3655"
      },
      "outputs": [
        {
          "output_type": "execute_result",
          "data": {
            "text/plain": [
              "(numpy.ndarray, 2)"
            ]
          },
          "metadata": {},
          "execution_count": 66
        }
      ],
      "source": [
        "type(X_labels) , X_labels[100]\n"
      ]
    },
    {
      "cell_type": "code",
      "execution_count": null,
      "metadata": {
        "id": "1PntOVOckU1Z"
      },
      "outputs": [],
      "source": [
        "print(X_train[125])"
      ]
    },
    {
      "cell_type": "code",
      "execution_count": null,
      "metadata": {
        "id": "B05veoNAeIJN"
      },
      "outputs": [],
      "source": [
        "print(X_labels)"
      ]
    },
    {
      "cell_type": "code",
      "execution_count": 85,
      "metadata": {
        "id": "Xj28gj6ednds"
      },
      "outputs": [],
      "source": [
        "from tensorflow.keras.models import Sequential\n",
        "from tensorflow.keras.layers import Conv2D, MaxPooling2D, Flatten, Dense\n",
        "\n",
        "# Define the model\n",
        "model = Sequential()\n",
        "\n",
        "# Convolutional and pooling layers\n",
        "model.add(Conv2D(32, (3, 3), activation='relu', input_shape=(30,30,1)))\n",
        "model.add(MaxPooling2D((2, 2)))\n",
        "model.add(Conv2D(64, (3, 3), activation='relu'))\n",
        "model.add(MaxPooling2D((2, 2)))\n",
        "model.add(Conv2D(128, (3, 3), activation='relu'))\n",
        "model.add(MaxPooling2D((2, 2)))\n",
        "\n",
        "# Flatten and fully connected layers\n",
        "model.add(Flatten())\n",
        "model.add(Dense(128, activation='relu'))\n",
        "model.add(Dense(12, activation='softmax'))\n",
        "\n",
        "# Compile the model\n",
        "model.compile(optimizer='adam', loss='sparse_categorical_crossentropy', metrics=['accuracy'])\n"
      ]
    },
    {
      "cell_type": "code",
      "execution_count": 86,
      "metadata": {
        "colab": {
          "base_uri": "https://localhost:8080/"
        },
        "id": "mtlH8gn97EXX",
        "outputId": "ed8d0fd4-7b56-41c5-dac8-e96211270c49"
      },
      "outputs": [
        {
          "output_type": "stream",
          "name": "stdout",
          "text": [
            "Model: \"sequential_10\"\n",
            "_________________________________________________________________\n",
            " Layer (type)                Output Shape              Param #   \n",
            "=================================================================\n",
            " conv2d_26 (Conv2D)          (None, 28, 28, 32)        320       \n",
            "                                                                 \n",
            " max_pooling2d_24 (MaxPooli  (None, 14, 14, 32)        0         \n",
            " ng2D)                                                           \n",
            "                                                                 \n",
            " conv2d_27 (Conv2D)          (None, 12, 12, 64)        18496     \n",
            "                                                                 \n",
            " max_pooling2d_25 (MaxPooli  (None, 6, 6, 64)          0         \n",
            " ng2D)                                                           \n",
            "                                                                 \n",
            " conv2d_28 (Conv2D)          (None, 4, 4, 128)         73856     \n",
            "                                                                 \n",
            " max_pooling2d_26 (MaxPooli  (None, 2, 2, 128)         0         \n",
            " ng2D)                                                           \n",
            "                                                                 \n",
            " flatten_8 (Flatten)         (None, 512)               0         \n",
            "                                                                 \n",
            " dense_16 (Dense)            (None, 128)               65664     \n",
            "                                                                 \n",
            " dense_17 (Dense)            (None, 12)                1548      \n",
            "                                                                 \n",
            "=================================================================\n",
            "Total params: 159884 (624.55 KB)\n",
            "Trainable params: 159884 (624.55 KB)\n",
            "Non-trainable params: 0 (0.00 Byte)\n",
            "_________________________________________________________________\n"
          ]
        }
      ],
      "source": [
        "model.summary()"
      ]
    },
    {
      "cell_type": "code",
      "execution_count": 87,
      "metadata": {
        "colab": {
          "base_uri": "https://localhost:8080/"
        },
        "id": "IDXMwZ23d9kj",
        "outputId": "e844f26c-3574-49e5-97dc-b33bf6d27846"
      },
      "outputs": [
        {
          "output_type": "stream",
          "name": "stdout",
          "text": [
            "Epoch 1/10\n",
            "32/32 [==============================] - 2s 39ms/step - loss: 2.4873 - accuracy: 0.0880\n",
            "Epoch 2/10\n",
            "32/32 [==============================] - 1s 39ms/step - loss: 2.4071 - accuracy: 0.1350\n",
            "Epoch 3/10\n",
            "32/32 [==============================] - 1s 39ms/step - loss: 2.0192 - accuracy: 0.2790\n",
            "Epoch 4/10\n",
            "32/32 [==============================] - 2s 65ms/step - loss: 1.5981 - accuracy: 0.4360\n",
            "Epoch 5/10\n",
            "32/32 [==============================] - 2s 67ms/step - loss: 1.2873 - accuracy: 0.5530\n",
            "Epoch 6/10\n",
            "32/32 [==============================] - 2s 66ms/step - loss: 1.1176 - accuracy: 0.5930\n",
            "Epoch 7/10\n",
            "32/32 [==============================] - 2s 47ms/step - loss: 0.9744 - accuracy: 0.6670\n",
            "Epoch 8/10\n",
            "32/32 [==============================] - 1s 39ms/step - loss: 0.8778 - accuracy: 0.6930\n",
            "Epoch 9/10\n",
            "32/32 [==============================] - 1s 39ms/step - loss: 0.7891 - accuracy: 0.7080\n",
            "Epoch 10/10\n",
            "32/32 [==============================] - 1s 40ms/step - loss: 0.6922 - accuracy: 0.7620\n"
          ]
        },
        {
          "output_type": "execute_result",
          "data": {
            "text/plain": [
              "<keras.src.callbacks.History at 0x79c25a3110f0>"
            ]
          },
          "metadata": {},
          "execution_count": 87
        }
      ],
      "source": [
        "model.fit(X_train, X_labels, epochs=10)"
      ]
    },
    {
      "cell_type": "code",
      "execution_count": 101,
      "metadata": {
        "colab": {
          "base_uri": "https://localhost:8080/"
        },
        "id": "eObfPc2YyxqO",
        "outputId": "7bf0ddf7-7058-455c-dbf3-f7527912474c"
      },
      "outputs": [
        {
          "output_type": "stream",
          "name": "stdout",
          "text": [
            "7/7 [==============================] - 0s 19ms/step\n",
            "[1.5715100e-06 1.5702479e-05 1.1314306e-03 3.1995423e-08 6.9653943e-08\n",
            " 4.0588177e-09 9.2569636e-08 2.6411022e-04 1.9253187e-02 1.7983936e-01\n",
            " 7.9949450e-01 1.8355385e-08]\n"
          ]
        }
      ],
      "source": [
        "m = model.predict(y_train, verbose=1)\n",
        "n = np.argmax(m[150])\n",
        "print(m[0])"
      ]
    },
    {
      "cell_type": "code",
      "source": [
        "plt.imshow(y_train[150])\n",
        "print(class_labels[n])"
      ],
      "metadata": {
        "colab": {
          "base_uri": "https://localhost:8080/",
          "height": 447
        },
        "id": "wVAiQFG_92vd",
        "outputId": "07bcd3e8-0726-45f5-e173-b9a2ea7bb976"
      },
      "execution_count": 102,
      "outputs": [
        {
          "output_type": "stream",
          "name": "stdout",
          "text": [
            "ஈ\n"
          ]
        },
        {
          "output_type": "display_data",
          "data": {
            "text/plain": [
              "<Figure size 640x480 with 1 Axes>"
            ],
            "image/png": "[encoded data removed]"
          },
          "metadata": {}
        }
      ]
    }
  ],
  "metadata": {
    "accelerator": "TPU",
    "colab": {
      "provenance": [],
      "mount_file_id": "1CSQPArld74wytwo5c2xc9W9Z5_bqkspD",
      "authorship_tag": "ABX9TyPEnGTW2QRksIeO/1b5SiaC",
      "include_colab_link": true
    },
    "kernelspec": {
      "display_name": "Python 3",
      "name": "python3"
    },
    "language_info": {
      "name": "python"
    }
  },
  "nbformat": 4,
  "nbformat_minor": 0
}