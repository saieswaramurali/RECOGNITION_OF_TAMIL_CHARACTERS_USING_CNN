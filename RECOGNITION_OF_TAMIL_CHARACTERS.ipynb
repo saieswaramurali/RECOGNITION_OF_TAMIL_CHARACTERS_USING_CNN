{
  "cells": [
    {
      "cell_type": "markdown",
      "metadata": {
        "id": "view-in-github",
        "colab_type": "text"
      },
      "source": [
        "<a href=\"https://colab.research.google.com/github/saieswaramurali/RECOGNITION_OF_TAMIL_CHARACTERS_USING_CNN/blob/main/RECOGNITION_OF_TAMIL_CHARACTERS.ipynb\" target=\"_parent\"><img src=\"https://colab.research.google.com/assets/colab-badge.svg\" alt=\"Open In Colab\"/></a>"
      ]
    },
    {
      "cell_type": "code",
      "execution_count": 106,
      "metadata": {
        "id": "R7EG4UPyZzDz"
      },
      "outputs": [],
      "source": [
        "import tensorflow as tf\n",
        "import pandas as pd\n",
        "import numpy as np\n",
        "import matplotlib.pyplot as plt\n",
        "from tensorflow import keras"
      ]
    },
    {
      "cell_type": "code",
      "execution_count": null,
      "metadata": {
        "id": "EjfLTHgqbBY9"
      },
      "outputs": [],
      "source": [
        "# to create the dataset out of folders of images of the data\n",
        "!pip install imutils"
      ]
    },
    {
      "cell_type": "code",
      "execution_count": 108,
      "metadata": {
        "id": "IlDTiRW9pvHG"
      },
      "outputs": [],
      "source": [
        "from imutils import paths\n",
        "import cv2\n",
        "import os"
      ]
    },
    {
      "cell_type": "code",
      "execution_count": 109,
      "metadata": {
        "id": "1yr09tuFp_he"
      },
      "outputs": [],
      "source": [
        "imagepaths = list(paths.list_images(\"/content/drive/MyDrive/ML/tamilCharData\"))"
      ]
    },
    {
      "cell_type": "code",
      "execution_count": null,
      "metadata": {
        "id": "6mXxxnVBqHJt"
      },
      "outputs": [],
      "source": [
        "print(imagepaths)"
      ]
    },
    {
      "cell_type": "code",
      "execution_count": 111,
      "metadata": {
        "id": "bAD67fkK_Al0"
      },
      "outputs": [],
      "source": [
        "# function to convert rgb to grayscale\n",
        "\n",
        "def rgb2gray(img) :\n",
        "  r = img[ :, :, 0]\n",
        "  g = img[ :, :, 1]\n",
        "  b = img[ :, :, 2]\n",
        "\n",
        "  return (0.2989 * r + 0.5870 * g + 0.1140 * b)\n"
      ]
    },
    {
      "cell_type": "code",
      "execution_count": null,
      "metadata": {
        "id": "tDPjJFmFxusn"
      },
      "outputs": [],
      "source": [
        "#storing the image from the imagepaths\n",
        "\n",
        "images = []\n",
        "\n",
        "for image in imagepaths :\n",
        "  try :\n",
        "    img = cv2.imread(image) # reading and storing the images on the img literal\n",
        "    img = rgb2gray(img) # converting the image to gray scale\n",
        "    img = cv2.resize(img, (45,45)) # resizing them from 480,480 to 30,30 to reduce the computations\n",
        "    images.append(img)\n",
        "    print(\"image loaded\")\n",
        "  except Exception as e :\n",
        "    print(f\"you got {e} error\")\n"
      ]
    },
    {
      "cell_type": "code",
      "execution_count": 113,
      "metadata": {
        "colab": {
          "base_uri": "https://localhost:8080/"
        },
        "id": "svNI-JBNAfW0",
        "outputId": "51416896-e0b7-44b7-adae-0cf43cf48703"
      },
      "outputs": [
        {
          "output_type": "execute_result",
          "data": {
            "text/plain": [
              "(45, 45)"
            ]
          },
          "metadata": {},
          "execution_count": 113
        }
      ],
      "source": [
        "images[0].shape"
      ]
    },
    {
      "cell_type": "code",
      "execution_count": 114,
      "metadata": {
        "colab": {
          "base_uri": "https://localhost:8080/",
          "height": 448
        },
        "id": "kXTvDbCU9kWE",
        "outputId": "469b11a9-263e-41ad-d10b-7fdcfbeb34d3"
      },
      "outputs": [
        {
          "output_type": "execute_result",
          "data": {
            "text/plain": [
              "<matplotlib.image.AxesImage at 0x79c25570f550>"
            ]
          },
          "metadata": {},
          "execution_count": 114
        },
        {
          "output_type": "display_data",
          "data": {
            "text/plain": [
              "<Figure size 640x480 with 1 Axes>"
            ],
            "image/png": "[encoded data removed]"
          },
          "metadata": {}
        }
      ],
      "source": [
        "plt.imshow(images[550])"
      ]
    },
    {
      "cell_type": "code",
      "execution_count": 115,
      "metadata": {
        "colab": {
          "base_uri": "https://localhost:8080/"
        },
        "id": "icaScEt0Ab87",
        "outputId": "b442d79e-ba8a-4d14-9048-02414de28c1d"
      },
      "outputs": [
        {
          "output_type": "stream",
          "name": "stdout",
          "text": [
            "12--3.jpg\n"
          ]
        }
      ],
      "source": [
        "# to produce the label name using the name of image in the image path\n",
        "labels = []\n",
        "\n",
        "for i in imagepaths :\n",
        "  labels.append(i[40::] )\n",
        "\n",
        "print(labels[550])"
      ]
    },
    {
      "cell_type": "code",
      "execution_count": 116,
      "metadata": {
        "id": "9uk2SB8T9_3O"
      },
      "outputs": [],
      "source": [
        "def returnlabel(name) :\n",
        "  index = 0\n",
        "  while name[index] != \"-\" :\n",
        "    index += 1\n",
        "  name = name[0:index:1]\n",
        "  return name\n",
        "\n"
      ]
    },
    {
      "cell_type": "code",
      "execution_count": 117,
      "metadata": {
        "id": "XCNW0CHYHUrc"
      },
      "outputs": [],
      "source": [
        "final_labels = []\n",
        "for label in labels :\n",
        "  lab = returnlabel(label)\n",
        "  final_labels.append(lab)\n",
        "\n"
      ]
    },
    {
      "cell_type": "code",
      "execution_count": 118,
      "metadata": {
        "colab": {
          "base_uri": "https://localhost:8080/",
          "height": 35
        },
        "id": "51bti-9sLBQP",
        "outputId": "fec3b97a-30b3-4933-ce65-8c5f1d9dfc09"
      },
      "outputs": [
        {
          "output_type": "execute_result",
          "data": {
            "text/plain": [
              "'1'"
            ],
            "application/vnd.google.colaboratory.intrinsic+json": {
              "type": "string"
            }
          },
          "metadata": {},
          "execution_count": 118
        }
      ],
      "source": [
        "labels = final_labels.copy()\n",
        "labels[0]"
      ]
    },
    {
      "cell_type": "code",
      "execution_count": null,
      "metadata": {
        "id": "6xQLsBajKfAr"
      },
      "outputs": [],
      "source": [
        "for i in labels :\n",
        "  print(i)"
      ]
    },
    {
      "cell_type": "code",
      "execution_count": 120,
      "metadata": {
        "id": "1Cj-X4D5M96b"
      },
      "outputs": [],
      "source": [
        "# now splitting the training and splitting datasets\n",
        "train_images = []\n",
        "train_labels = []\n",
        "\n",
        "for i in range(1000) :\n",
        "  train_images.append(images[i])\n",
        "  train_labels.append(int(labels[i]))\n",
        "\n",
        "test_images = []\n",
        "test_labels = []\n",
        "for i in range(1000, 1200) :\n",
        "  test_images.append(images[i])\n",
        "  test_labels.append(int(labels[i]))\n",
        "\n",
        "\n",
        "class_labels =  ['அ', 'ஆ', 'இ', 'ஈ', 'உ', 'ஊ', 'எ', 'ஏ', 'ஐ', 'ஒ', 'ஓ', 'ஔ']\n"
      ]
    },
    {
      "cell_type": "code",
      "execution_count": null,
      "metadata": {
        "id": "bsCGVQIJl4T0"
      },
      "outputs": [],
      "source": [
        "print(train_labels)"
      ]
    },
    {
      "cell_type": "code",
      "source": [
        "# assining the train_labels to 0-11 instead of 1-12\n",
        "for i in range(len(train_labels)) :\n",
        "  train_labels[i] -= 1\n"
      ],
      "metadata": {
        "id": "mRgUhgH5ACiJ"
      },
      "execution_count": 122,
      "outputs": []
    },
    {
      "cell_type": "code",
      "source": [
        "print(train_labels)"
      ],
      "metadata": {
        "id": "_HltoegCAOFJ"
      },
      "execution_count": null,
      "outputs": []
    },
    {
      "cell_type": "code",
      "execution_count": 124,
      "metadata": {
        "colab": {
          "base_uri": "https://localhost:8080/",
          "height": 448
        },
        "id": "nuQr393APhCr",
        "outputId": "af5c765e-0e61-4185-a615-ec79747387d7"
      },
      "outputs": [
        {
          "output_type": "stream",
          "name": "stdout",
          "text": [
            "ஆ\n"
          ]
        },
        {
          "output_type": "display_data",
          "data": {
            "text/plain": [
              "<Figure size 640x480 with 1 Axes>"
            ],
            "image/png": "[encoded data removed]"
          },
          "metadata": {}
        }
      ],
      "source": [
        "plt.imshow(train_images[100])\n",
        "a = train_labels[100]\n",
        "print(class_labels[a - 1])"
      ]
    },
    {
      "cell_type": "code",
      "execution_count": 125,
      "metadata": {
        "id": "RhhY9ttqUm8s"
      },
      "outputs": [],
      "source": [
        "X_train = np.array(train_images)\n",
        "y_train = np.array(test_images)\n",
        "X_train.shape, y_train.shape\n",
        "\n",
        "X_train = X_train / 255  # feature scaling to reduce the magnitude of the weights involved in the network\n",
        "y_train = y_train / 255  # ,,,\n"
      ]
    },
    {
      "cell_type": "code",
      "execution_count": 127,
      "metadata": {
        "id": "PzVAG40sYpMk"
      },
      "outputs": [],
      "source": [
        "\n",
        "X_labels = np.array(train_labels)\n",
        "y_labels = np.array(test_labels)"
      ]
    },
    {
      "cell_type": "code",
      "execution_count": 128,
      "metadata": {
        "colab": {
          "base_uri": "https://localhost:8080/"
        },
        "id": "wcqkQ2dIZFi7",
        "outputId": "aa93d98c-e7d5-44c0-b0e1-049c2592fe27"
      },
      "outputs": [
        {
          "output_type": "execute_result",
          "data": {
            "text/plain": [
              "(numpy.ndarray, 2)"
            ]
          },
          "metadata": {},
          "execution_count": 128
        }
      ],
      "source": [
        "type(X_labels) , X_labels[100]\n"
      ]
    },
    {
      "cell_type": "code",
      "execution_count": null,
      "metadata": {
        "id": "1PntOVOckU1Z"
      },
      "outputs": [],
      "source": [
        "print(X_train[125])"
      ]
    },
    {
      "cell_type": "code",
      "execution_count": null,
      "metadata": {
        "id": "B05veoNAeIJN"
      },
      "outputs": [],
      "source": [
        "print(X_labels)"
      ]
    },
    {
      "cell_type": "code",
      "execution_count": 195,
      "metadata": {
        "id": "Xj28gj6ednds"
      },
      "outputs": [],
      "source": [
        "from tensorflow.keras.models import Sequential\n",
        "from tensorflow.keras.layers import Conv2D, MaxPooling2D, Flatten, Dense\n",
        "\n",
        "# Define the model\n",
        "model = Sequential()\n",
        "\n",
        "# Convolutional and pooling layers\n",
        "model.add(Conv2D(32, (3, 3), activation='relu', input_shape=(45,45,1)))\n",
        "model.add(MaxPooling2D((2, 2)))\n",
        "model.add(Conv2D(64, (3, 3), activation='relu'))\n",
        "model.add(MaxPooling2D((2, 2)))\n",
        "model.add(Conv2D(128, (3, 3), activation='relu'))\n",
        "model.add(MaxPooling2D((2, 2)))\n",
        "\n",
        "# Flatten and fully connected layers\n",
        "model.add(Flatten())\n",
        "model.add(Dense(128, activation='relu'))\n",
        "model.add(Dense(12, activation='softmax'))\n",
        "\n",
        "# Compile the model\n",
        "model.compile(optimizer='Adam', loss='sparse_categorical_crossentropy', metrics=['accuracy'])\n"
      ]
    },
    {
      "cell_type": "code",
      "execution_count": 196,
      "metadata": {
        "colab": {
          "base_uri": "https://localhost:8080/"
        },
        "id": "mtlH8gn97EXX",
        "outputId": "79028098-4d44-4fc3-f486-bcfa7b37cdbd"
      },
      "outputs": [
        {
          "output_type": "stream",
          "name": "stdout",
          "text": [
            "Model: \"sequential_18\"\n",
            "_________________________________________________________________\n",
            " Layer (type)                Output Shape              Param #   \n",
            "=================================================================\n",
            " conv2d_50 (Conv2D)          (None, 43, 43, 32)        320       \n",
            "                                                                 \n",
            " max_pooling2d_48 (MaxPooli  (None, 21, 21, 32)        0         \n",
            " ng2D)                                                           \n",
            "                                                                 \n",
            " conv2d_51 (Conv2D)          (None, 19, 19, 64)        18496     \n",
            "                                                                 \n",
            " max_pooling2d_49 (MaxPooli  (None, 9, 9, 64)          0         \n",
            " ng2D)                                                           \n",
            "                                                                 \n",
            " conv2d_52 (Conv2D)          (None, 7, 7, 128)         73856     \n",
            "                                                                 \n",
            " max_pooling2d_50 (MaxPooli  (None, 3, 3, 128)         0         \n",
            " ng2D)                                                           \n",
            "                                                                 \n",
            " flatten_16 (Flatten)        (None, 1152)              0         \n",
            "                                                                 \n",
            " dense_32 (Dense)            (None, 128)               147584    \n",
            "                                                                 \n",
            " dense_33 (Dense)            (None, 12)                1548      \n",
            "                                                                 \n",
            "=================================================================\n",
            "Total params: 241804 (944.55 KB)\n",
            "Trainable params: 241804 (944.55 KB)\n",
            "Non-trainable params: 0 (0.00 Byte)\n",
            "_________________________________________________________________\n"
          ]
        }
      ],
      "source": [
        "model.summary()"
      ]
    },
    {
      "cell_type": "code",
      "execution_count": 197,
      "metadata": {
        "colab": {
          "base_uri": "https://localhost:8080/"
        },
        "id": "IDXMwZ23d9kj",
        "outputId": "163db15d-d35f-4f87-f2b7-29657c0196e7"
      },
      "outputs": [
        {
          "output_type": "stream",
          "name": "stdout",
          "text": [
            "Epoch 1/10\n",
            "32/32 [==============================] - 6s 141ms/step - loss: 2.4789 - accuracy: 0.1050\n",
            "Epoch 2/10\n",
            "32/32 [==============================] - 3s 86ms/step - loss: 2.2519 - accuracy: 0.2310\n",
            "Epoch 3/10\n",
            "32/32 [==============================] - 3s 85ms/step - loss: 1.8346 - accuracy: 0.3910\n",
            "Epoch 4/10\n",
            "32/32 [==============================] - 3s 86ms/step - loss: 1.5314 - accuracy: 0.4760\n",
            "Epoch 5/10\n",
            "32/32 [==============================] - 3s 103ms/step - loss: 1.0823 - accuracy: 0.6390\n",
            "Epoch 6/10\n",
            "32/32 [==============================] - 5s 142ms/step - loss: 0.8173 - accuracy: 0.7290\n",
            "Epoch 7/10\n",
            "32/32 [==============================] - 3s 95ms/step - loss: 0.6109 - accuracy: 0.7910\n",
            "Epoch 8/10\n",
            "32/32 [==============================] - 3s 85ms/step - loss: 0.4796 - accuracy: 0.8340\n",
            "Epoch 9/10\n",
            "32/32 [==============================] - 3s 85ms/step - loss: 0.3813 - accuracy: 0.8720\n",
            "Epoch 10/10\n",
            "32/32 [==============================] - 3s 93ms/step - loss: 0.2821 - accuracy: 0.9060\n"
          ]
        },
        {
          "output_type": "execute_result",
          "data": {
            "text/plain": [
              "<keras.src.callbacks.History at 0x79c26474d720>"
            ]
          },
          "metadata": {},
          "execution_count": 197
        }
      ],
      "source": [
        "model.fit(X_train, X_labels, epochs=10)"
      ]
    },
    {
      "cell_type": "code",
      "execution_count": 198,
      "metadata": {
        "colab": {
          "base_uri": "https://localhost:8080/"
        },
        "id": "eObfPc2YyxqO",
        "outputId": "558f4f7e-51ca-4c31-806c-59ac97461966"
      },
      "outputs": [
        {
          "output_type": "stream",
          "name": "stdout",
          "text": [
            "7/7 [==============================] - 0s 21ms/step\n",
            "[8.1790137e-07 9.2269005e-08 1.7106527e-04 6.0239689e-09 2.1374500e-09\n",
            " 3.6073015e-08 7.8890974e-07 3.9664604e-04 5.6062330e-04 1.1455250e-01\n",
            " 8.8431102e-01 6.2563045e-06]\n"
          ]
        }
      ],
      "source": [
        "m = model.predict(y_train, verbose=1)\n",
        "n = np.argmax(m[189])\n",
        "print(m[0])"
      ]
    },
    {
      "cell_type": "code",
      "source": [
        "plt.imshow(y_train[189])\n",
        "print(class_labels[n])"
      ],
      "metadata": {
        "colab": {
          "base_uri": "https://localhost:8080/",
          "height": 448
        },
        "id": "wVAiQFG_92vd",
        "outputId": "a1e972ba-5082-467b-ebdb-07b8cc273403"
      },
      "execution_count": 199,
      "outputs": [
        {
          "output_type": "stream",
          "name": "stdout",
          "text": [
            "இ\n"
          ]
        },
        {
          "output_type": "display_data",
          "data": {
            "text/plain": [
              "<Figure size 640x480 with 1 Axes>"
            ],
            "image/png": "[encoded data removed]"
          },
          "metadata": {}
        }
      ]
    },
    {
      "cell_type": "code",
      "source": [
        "import seaborn as sns\n",
        "from sklearn.metrics import confusion_matrix, classification_report\n",
        "\n",
        "predictions = model.predict(y_train)\n",
        "predicted_labels = np.argmax(predictions, axis=1)\n",
        "conf_matrix = confusion_matrix(y_labels, predicted_labels)\n"
      ],
      "metadata": {
        "colab": {
          "base_uri": "https://localhost:8080/"
        },
        "id": "1UJU_g-4LT9X",
        "outputId": "0d15df88-6073-4837-bbb1-92998022dde2"
      },
      "execution_count": 200,
      "outputs": [
        {
          "output_type": "stream",
          "name": "stdout",
          "text": [
            "7/7 [==============================] - 0s 20ms/step\n"
          ]
        }
      ]
    },
    {
      "cell_type": "code",
      "source": [
        "plt.figure(figsize=(10, 8))\n",
        "sns.heatmap(conf_matrix, annot=True, fmt='d', cmap='Blues', xticklabels=class_labels, yticklabels=class_labels)\n",
        "plt.xlabel('Predicted')\n",
        "plt.ylabel('True')\n",
        "plt.title('Confusion Matrix')\n",
        "plt.show()\n"
      ],
      "metadata": {
        "colab": {
          "base_uri": "https://localhost:8080/",
          "height": 1000
        },
        "id": "neXP82c3aPrm",
        "outputId": "25f1e5f4-cbe8-490e-d0a7-6fca09078ee8"
      },
      "execution_count": 201,
      "outputs": [
        {
          "output_type": "stream",
          "name": "stderr",
          "text": [
            "/usr/local/lib/python3.10/dist-packages/seaborn/utils.py:80: UserWarning: Glyph 2949 (\\N{TAMIL LETTER A}) missing from current font.\n",
            "  fig.canvas.draw()\n",
            "/usr/local/lib/python3.10/dist-packages/seaborn/utils.py:80: UserWarning: Matplotlib currently does not support Tamil natively.\n",
            "  fig.canvas.draw()\n",
            "/usr/local/lib/python3.10/dist-packages/seaborn/utils.py:80: UserWarning: Glyph 2950 (\\N{TAMIL LETTER AA}) missing from current font.\n",
            "  fig.canvas.draw()\n",
            "/usr/local/lib/python3.10/dist-packages/seaborn/utils.py:80: UserWarning: Glyph 2951 (\\N{TAMIL LETTER I}) missing from current font.\n",
            "  fig.canvas.draw()\n",
            "/usr/local/lib/python3.10/dist-packages/seaborn/utils.py:80: UserWarning: Glyph 2952 (\\N{TAMIL LETTER II}) missing from current font.\n",
            "  fig.canvas.draw()\n",
            "/usr/local/lib/python3.10/dist-packages/seaborn/utils.py:80: UserWarning: Glyph 2953 (\\N{TAMIL LETTER U}) missing from current font.\n",
            "  fig.canvas.draw()\n",
            "/usr/local/lib/python3.10/dist-packages/seaborn/utils.py:80: UserWarning: Glyph 2954 (\\N{TAMIL LETTER UU}) missing from current font.\n",
            "  fig.canvas.draw()\n",
            "/usr/local/lib/python3.10/dist-packages/seaborn/utils.py:80: UserWarning: Glyph 2958 (\\N{TAMIL LETTER E}) missing from current font.\n",
            "  fig.canvas.draw()\n",
            "/usr/local/lib/python3.10/dist-packages/seaborn/utils.py:80: UserWarning: Glyph 2959 (\\N{TAMIL LETTER EE}) missing from current font.\n",
            "  fig.canvas.draw()\n",
            "/usr/local/lib/python3.10/dist-packages/seaborn/utils.py:80: UserWarning: Glyph 2960 (\\N{TAMIL LETTER AI}) missing from current font.\n",
            "  fig.canvas.draw()\n",
            "/usr/local/lib/python3.10/dist-packages/seaborn/utils.py:80: UserWarning: Glyph 2962 (\\N{TAMIL LETTER O}) missing from current font.\n",
            "  fig.canvas.draw()\n",
            "/usr/local/lib/python3.10/dist-packages/seaborn/utils.py:80: UserWarning: Glyph 2963 (\\N{TAMIL LETTER OO}) missing from current font.\n",
            "  fig.canvas.draw()\n",
            "/usr/local/lib/python3.10/dist-packages/seaborn/utils.py:80: UserWarning: Glyph 2964 (\\N{TAMIL LETTER AU}) missing from current font.\n",
            "  fig.canvas.draw()\n",
            "/usr/local/lib/python3.10/dist-packages/IPython/core/pylabtools.py:151: UserWarning: Glyph 2949 (\\N{TAMIL LETTER A}) missing from current font.\n",
            "  fig.canvas.print_figure(bytes_io, **kw)\n",
            "/usr/local/lib/python3.10/dist-packages/IPython/core/pylabtools.py:151: UserWarning: Matplotlib currently does not support Tamil natively.\n",
            "  fig.canvas.print_figure(bytes_io, **kw)\n",
            "/usr/local/lib/python3.10/dist-packages/IPython/core/pylabtools.py:151: UserWarning: Glyph 2950 (\\N{TAMIL LETTER AA}) missing from current font.\n",
            "  fig.canvas.print_figure(bytes_io, **kw)\n",
            "/usr/local/lib/python3.10/dist-packages/IPython/core/pylabtools.py:151: UserWarning: Glyph 2951 (\\N{TAMIL LETTER I}) missing from current font.\n",
            "  fig.canvas.print_figure(bytes_io, **kw)\n",
            "/usr/local/lib/python3.10/dist-packages/IPython/core/pylabtools.py:151: UserWarning: Glyph 2952 (\\N{TAMIL LETTER II}) missing from current font.\n",
            "  fig.canvas.print_figure(bytes_io, **kw)\n",
            "/usr/local/lib/python3.10/dist-packages/IPython/core/pylabtools.py:151: UserWarning: Glyph 2953 (\\N{TAMIL LETTER U}) missing from current font.\n",
            "  fig.canvas.print_figure(bytes_io, **kw)\n",
            "/usr/local/lib/python3.10/dist-packages/IPython/core/pylabtools.py:151: UserWarning: Glyph 2954 (\\N{TAMIL LETTER UU}) missing from current font.\n",
            "  fig.canvas.print_figure(bytes_io, **kw)\n",
            "/usr/local/lib/python3.10/dist-packages/IPython/core/pylabtools.py:151: UserWarning: Glyph 2958 (\\N{TAMIL LETTER E}) missing from current font.\n",
            "  fig.canvas.print_figure(bytes_io, **kw)\n",
            "/usr/local/lib/python3.10/dist-packages/IPython/core/pylabtools.py:151: UserWarning: Glyph 2959 (\\N{TAMIL LETTER EE}) missing from current font.\n",
            "  fig.canvas.print_figure(bytes_io, **kw)\n",
            "/usr/local/lib/python3.10/dist-packages/IPython/core/pylabtools.py:151: UserWarning: Glyph 2960 (\\N{TAMIL LETTER AI}) missing from current font.\n",
            "  fig.canvas.print_figure(bytes_io, **kw)\n",
            "/usr/local/lib/python3.10/dist-packages/IPython/core/pylabtools.py:151: UserWarning: Glyph 2962 (\\N{TAMIL LETTER O}) missing from current font.\n",
            "  fig.canvas.print_figure(bytes_io, **kw)\n",
            "/usr/local/lib/python3.10/dist-packages/IPython/core/pylabtools.py:151: UserWarning: Glyph 2963 (\\N{TAMIL LETTER OO}) missing from current font.\n",
            "  fig.canvas.print_figure(bytes_io, **kw)\n",
            "/usr/local/lib/python3.10/dist-packages/IPython/core/pylabtools.py:151: UserWarning: Glyph 2964 (\\N{TAMIL LETTER AU}) missing from current font.\n",
            "  fig.canvas.print_figure(bytes_io, **kw)\n"
          ]
        },
        {
          "output_type": "display_data",
          "data": {
            "text/plain": [
              "<Figure size 1000x800 with 2 Axes>"
            ],
            "image/png": "[encoded data removed]"
          },
          "metadata": {}
        }
      ]
    },
    {
      "cell_type": "code",
      "source": [
        "\n",
        "def evaluate(y_pred, y_real) :\n",
        "  size = len(y_real)\n",
        "  c = 0\n",
        "  for i in range(len(y_real)) :\n",
        "    if y_pred[i] == y_real[i] - 1 :\n",
        "      c+=1\n",
        "      #print(i)\n",
        "\n",
        "  return float(c / size)\n",
        "\n"
      ],
      "metadata": {
        "id": "moyTzg63d1BC"
      },
      "execution_count": 202,
      "outputs": []
    },
    {
      "cell_type": "code",
      "source": [
        "y_pred = []\n",
        "\n",
        "for i in range(len(y_train)) :\n",
        "  n = np.argmax(m[i])\n",
        "  y_pred.append(n)\n",
        "\n",
        "accuracy = evaluate(y_pred, list(y_labels))\n",
        "accuracy\n"
      ],
      "metadata": {
        "colab": {
          "base_uri": "https://localhost:8080/"
        },
        "id": "TFREKr4rhEUL",
        "outputId": "bc7881c6-2190-4a64-c633-4129350398c7"
      },
      "execution_count": 203,
      "outputs": [
        {
          "output_type": "execute_result",
          "data": {
            "text/plain": [
              "0.765"
            ]
          },
          "metadata": {},
          "execution_count": 203
        }
      ]
    }
  ],
  "metadata": {
    "accelerator": "TPU",
    "colab": {
      "provenance": [],
      "mount_file_id": "1CSQPArld74wytwo5c2xc9W9Z5_bqkspD",
      "authorship_tag": "ABX9TyPF0a7mz6fBnnr/2m3q+GnG",
      "include_colab_link": true
    },
    "kernelspec": {
      "display_name": "Python 3",
      "name": "python3"
    },
    "language_info": {
      "name": "python"
    }
  },
  "nbformat": 4,
  "nbformat_minor": 0
}